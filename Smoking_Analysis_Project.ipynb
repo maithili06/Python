{
 "cells": [
  {
   "cell_type": "markdown",
   "id": "c5736152-0ce5-455a-9285-7a6ea1e517ce",
   "metadata": {},
   "source": [
    "# PROJECT NAME - BODY SIGNAL ANALYSIS FOR SMOKING"
   ]
  },
  {
   "cell_type": "markdown",
   "id": "3282beba-5fc1-4f6e-980c-4e8f73d8a41a",
   "metadata": {},
   "source": [
    "# Implemented by Maithili Salunkhe"
   ]
  },
  {
   "cell_type": "markdown",
   "id": "e1ed7517-e04e-437a-a6c0-431316bf3449",
   "metadata": {},
   "source": [
    "# Problem Statement"
   ]
  },
  {
   "cell_type": "markdown",
   "id": "ceb3fc56-612f-4a4c-8926-968957d50212",
   "metadata": {},
   "source": [
    "**Examining and analysing on a data set where there are different health metrices to check whether the person is a smoker or a non smoker.**"
   ]
  },
  {
   "cell_type": "markdown",
   "id": "215dedd1-eb9f-4249-a6b5-d1277ec3ad63",
   "metadata": {},
   "source": [
    "# Objective "
   ]
  },
  {
   "cell_type": "markdown",
   "id": "5781dc70-1a7b-4df7-90a2-3c2733bd507e",
   "metadata": {},
   "source": [
    "**1.Data Cleaning and Preprocessing:** Clean and preprocess the smoking dataset to handle missing values and inconsistencies.\n",
    "\n",
    "**2.Exploratory Data Analysis (EDA):** Conduct exploratory data analysis to understand the distribution, relationships, and patterns within the health metrics\n",
    "\n",
    "**3.Data Visualization and Insight Generation:** Visualize the key relationships and trends in the dataset using plots, graphs, and charts.\n",
    "\n",
    "**4.Actionable Recommendations:** Based on the analysis and model outcomes, provide actionable recommendations for reducing smoking prevalence and improving health outcomes among different demographic groups."
   ]
  },
  {
   "cell_type": "code",
   "execution_count": 2,
   "id": "1c9dbad3-be57-471b-ab37-7423cb632fcd",
   "metadata": {},
   "outputs": [
    {
     "name": "stdout",
     "output_type": "stream",
     "text": [
      "Requirement already satisfied: pandas in /opt/anaconda3/lib/python3.12/site-packages (2.2.2)\n",
      "Requirement already satisfied: numpy>=1.26.0 in /opt/anaconda3/lib/python3.12/site-packages (from pandas) (1.26.4)\n",
      "Requirement already satisfied: python-dateutil>=2.8.2 in /opt/anaconda3/lib/python3.12/site-packages (from pandas) (2.9.0.post0)\n",
      "Requirement already satisfied: pytz>=2020.1 in /opt/anaconda3/lib/python3.12/site-packages (from pandas) (2024.1)\n",
      "Requirement already satisfied: tzdata>=2022.7 in /opt/anaconda3/lib/python3.12/site-packages (from pandas) (2023.3)\n",
      "Requirement already satisfied: six>=1.5 in /opt/anaconda3/lib/python3.12/site-packages (from python-dateutil>=2.8.2->pandas) (1.16.0)\n",
      "Requirement already satisfied: matplotlib in /opt/anaconda3/lib/python3.12/site-packages (3.8.4)\n",
      "Requirement already satisfied: contourpy>=1.0.1 in /opt/anaconda3/lib/python3.12/site-packages (from matplotlib) (1.2.0)\n",
      "Requirement already satisfied: cycler>=0.10 in /opt/anaconda3/lib/python3.12/site-packages (from matplotlib) (0.11.0)\n",
      "Requirement already satisfied: fonttools>=4.22.0 in /opt/anaconda3/lib/python3.12/site-packages (from matplotlib) (4.51.0)\n",
      "Requirement already satisfied: kiwisolver>=1.3.1 in /opt/anaconda3/lib/python3.12/site-packages (from matplotlib) (1.4.4)\n",
      "Requirement already satisfied: numpy>=1.21 in /opt/anaconda3/lib/python3.12/site-packages (from matplotlib) (1.26.4)\n",
      "Requirement already satisfied: packaging>=20.0 in /opt/anaconda3/lib/python3.12/site-packages (from matplotlib) (23.2)\n",
      "Requirement already satisfied: pillow>=8 in /opt/anaconda3/lib/python3.12/site-packages (from matplotlib) (10.3.0)\n",
      "Requirement already satisfied: pyparsing>=2.3.1 in /opt/anaconda3/lib/python3.12/site-packages (from matplotlib) (3.0.9)\n",
      "Requirement already satisfied: python-dateutil>=2.7 in /opt/anaconda3/lib/python3.12/site-packages (from matplotlib) (2.9.0.post0)\n",
      "Requirement already satisfied: six>=1.5 in /opt/anaconda3/lib/python3.12/site-packages (from python-dateutil>=2.7->matplotlib) (1.16.0)\n",
      "Requirement already satisfied: numpy in /opt/anaconda3/lib/python3.12/site-packages (1.26.4)\n",
      "Requirement already satisfied: seaborn in /opt/anaconda3/lib/python3.12/site-packages (0.13.2)\n",
      "Requirement already satisfied: numpy!=1.24.0,>=1.20 in /opt/anaconda3/lib/python3.12/site-packages (from seaborn) (1.26.4)\n",
      "Requirement already satisfied: pandas>=1.2 in /opt/anaconda3/lib/python3.12/site-packages (from seaborn) (2.2.2)\n",
      "Requirement already satisfied: matplotlib!=3.6.1,>=3.4 in /opt/anaconda3/lib/python3.12/site-packages (from seaborn) (3.8.4)\n",
      "Requirement already satisfied: contourpy>=1.0.1 in /opt/anaconda3/lib/python3.12/site-packages (from matplotlib!=3.6.1,>=3.4->seaborn) (1.2.0)\n",
      "Requirement already satisfied: cycler>=0.10 in /opt/anaconda3/lib/python3.12/site-packages (from matplotlib!=3.6.1,>=3.4->seaborn) (0.11.0)\n",
      "Requirement already satisfied: fonttools>=4.22.0 in /opt/anaconda3/lib/python3.12/site-packages (from matplotlib!=3.6.1,>=3.4->seaborn) (4.51.0)\n",
      "Requirement already satisfied: kiwisolver>=1.3.1 in /opt/anaconda3/lib/python3.12/site-packages (from matplotlib!=3.6.1,>=3.4->seaborn) (1.4.4)\n",
      "Requirement already satisfied: packaging>=20.0 in /opt/anaconda3/lib/python3.12/site-packages (from matplotlib!=3.6.1,>=3.4->seaborn) (23.2)\n",
      "Requirement already satisfied: pillow>=8 in /opt/anaconda3/lib/python3.12/site-packages (from matplotlib!=3.6.1,>=3.4->seaborn) (10.3.0)\n",
      "Requirement already satisfied: pyparsing>=2.3.1 in /opt/anaconda3/lib/python3.12/site-packages (from matplotlib!=3.6.1,>=3.4->seaborn) (3.0.9)\n",
      "Requirement already satisfied: python-dateutil>=2.7 in /opt/anaconda3/lib/python3.12/site-packages (from matplotlib!=3.6.1,>=3.4->seaborn) (2.9.0.post0)\n",
      "Requirement already satisfied: pytz>=2020.1 in /opt/anaconda3/lib/python3.12/site-packages (from pandas>=1.2->seaborn) (2024.1)\n",
      "Requirement already satisfied: tzdata>=2022.7 in /opt/anaconda3/lib/python3.12/site-packages (from pandas>=1.2->seaborn) (2023.3)\n",
      "Requirement already satisfied: six>=1.5 in /opt/anaconda3/lib/python3.12/site-packages (from python-dateutil>=2.7->matplotlib!=3.6.1,>=3.4->seaborn) (1.16.0)\n",
      "Requirement already satisfied: sidetable in /opt/anaconda3/lib/python3.12/site-packages (0.9.1)\n",
      "Requirement already satisfied: pandas>=1.0 in /opt/anaconda3/lib/python3.12/site-packages (from sidetable) (2.2.2)\n",
      "Requirement already satisfied: numpy>=1.26.0 in /opt/anaconda3/lib/python3.12/site-packages (from pandas>=1.0->sidetable) (1.26.4)\n",
      "Requirement already satisfied: python-dateutil>=2.8.2 in /opt/anaconda3/lib/python3.12/site-packages (from pandas>=1.0->sidetable) (2.9.0.post0)\n",
      "Requirement already satisfied: pytz>=2020.1 in /opt/anaconda3/lib/python3.12/site-packages (from pandas>=1.0->sidetable) (2024.1)\n",
      "Requirement already satisfied: tzdata>=2022.7 in /opt/anaconda3/lib/python3.12/site-packages (from pandas>=1.0->sidetable) (2023.3)\n",
      "Requirement already satisfied: six>=1.5 in /opt/anaconda3/lib/python3.12/site-packages (from python-dateutil>=2.8.2->pandas>=1.0->sidetable) (1.16.0)\n"
     ]
    }
   ],
   "source": [
    "#installing the packages\n",
    "!pip install pandas\n",
    "!pip install matplotlib\n",
    "!pip install numpy\n",
    "!pip install seaborn\n",
    "!pip install sidetable"
   ]
  },
  {
   "cell_type": "markdown",
   "id": "00aac450-0978-4e09-90af-491562b38983",
   "metadata": {},
   "source": [
    "**Insight**\n",
    "\n",
    "Installed all necessary packages"
   ]
  },
  {
   "cell_type": "markdown",
   "id": "d3ab14a6-4409-4fe1-a035-96fb501dbcea",
   "metadata": {},
   "source": [
    "# *Import necessary packages*"
   ]
  },
  {
   "cell_type": "code",
   "execution_count": 6,
   "id": "86e72b3f-fe74-45a1-aaba-b4097a189c57",
   "metadata": {},
   "outputs": [],
   "source": [
    "# Importing the necessary packages for data manipulation and visualisation\n",
    "import pandas as pd   # Data Manipulation\n",
    "import matplotlib.pyplot as plt    # Data Visualisation\n",
    "import numpy as np     #Mathematical Calculation\n",
    "import seaborn as sns   # powerful Python library for data visualization based on matplotlib"
   ]
  },
  {
   "cell_type": "markdown",
   "id": "d2aa138c-9a24-43f6-a695-34948f57787b",
   "metadata": {},
   "source": [
    "**Insight**   \n",
    "Imported all necessary packages"
   ]
  },
  {
   "cell_type": "markdown",
   "id": "6174fd08-edc4-40c7-b563-588d9fa1164f",
   "metadata": {},
   "source": [
    "# Loading the files from the local system to the Notebook"
   ]
  },
  {
   "cell_type": "code",
   "execution_count": 8,
   "id": "bf9e800d-c141-41d6-8ff0-9ebf24739eeb",
   "metadata": {},
   "outputs": [
    {
     "data": {
      "text/html": [
       "<div>\n",
       "<style scoped>\n",
       "    .dataframe tbody tr th:only-of-type {\n",
       "        vertical-align: middle;\n",
       "    }\n",
       "\n",
       "    .dataframe tbody tr th {\n",
       "        vertical-align: top;\n",
       "    }\n",
       "\n",
       "    .dataframe thead th {\n",
       "        text-align: right;\n",
       "    }\n",
       "</style>\n",
       "<table border=\"1\" class=\"dataframe\">\n",
       "  <thead>\n",
       "    <tr style=\"text-align: right;\">\n",
       "      <th></th>\n",
       "      <th>ID</th>\n",
       "      <th>gender</th>\n",
       "      <th>age</th>\n",
       "      <th>height(cm)</th>\n",
       "      <th>weight(kg)</th>\n",
       "      <th>waist(cm)</th>\n",
       "      <th>eyesight(left)</th>\n",
       "      <th>eyesight(right)</th>\n",
       "      <th>hearing(left)</th>\n",
       "      <th>hearing(right)</th>\n",
       "      <th>...</th>\n",
       "      <th>hemoglobin</th>\n",
       "      <th>Urine protein</th>\n",
       "      <th>serum creatinine</th>\n",
       "      <th>AST</th>\n",
       "      <th>ALT</th>\n",
       "      <th>Gtp</th>\n",
       "      <th>oral</th>\n",
       "      <th>dental caries</th>\n",
       "      <th>tartar</th>\n",
       "      <th>smoking</th>\n",
       "    </tr>\n",
       "  </thead>\n",
       "  <tbody>\n",
       "    <tr>\n",
       "      <th>0</th>\n",
       "      <td>0</td>\n",
       "      <td>F</td>\n",
       "      <td>40</td>\n",
       "      <td>155</td>\n",
       "      <td>60</td>\n",
       "      <td>81.3</td>\n",
       "      <td>1.2</td>\n",
       "      <td>1.0</td>\n",
       "      <td>1.0</td>\n",
       "      <td>1.0</td>\n",
       "      <td>...</td>\n",
       "      <td>12.9</td>\n",
       "      <td>1.0</td>\n",
       "      <td>0.7</td>\n",
       "      <td>18.0</td>\n",
       "      <td>19.0</td>\n",
       "      <td>27.0</td>\n",
       "      <td>Y</td>\n",
       "      <td>0</td>\n",
       "      <td>Y</td>\n",
       "      <td>0</td>\n",
       "    </tr>\n",
       "    <tr>\n",
       "      <th>1</th>\n",
       "      <td>1</td>\n",
       "      <td>F</td>\n",
       "      <td>40</td>\n",
       "      <td>160</td>\n",
       "      <td>60</td>\n",
       "      <td>81.0</td>\n",
       "      <td>0.8</td>\n",
       "      <td>0.6</td>\n",
       "      <td>1.0</td>\n",
       "      <td>1.0</td>\n",
       "      <td>...</td>\n",
       "      <td>12.7</td>\n",
       "      <td>1.0</td>\n",
       "      <td>0.6</td>\n",
       "      <td>22.0</td>\n",
       "      <td>19.0</td>\n",
       "      <td>18.0</td>\n",
       "      <td>Y</td>\n",
       "      <td>0</td>\n",
       "      <td>Y</td>\n",
       "      <td>0</td>\n",
       "    </tr>\n",
       "    <tr>\n",
       "      <th>2</th>\n",
       "      <td>2</td>\n",
       "      <td>M</td>\n",
       "      <td>55</td>\n",
       "      <td>170</td>\n",
       "      <td>60</td>\n",
       "      <td>80.0</td>\n",
       "      <td>0.8</td>\n",
       "      <td>0.8</td>\n",
       "      <td>1.0</td>\n",
       "      <td>1.0</td>\n",
       "      <td>...</td>\n",
       "      <td>15.8</td>\n",
       "      <td>1.0</td>\n",
       "      <td>1.0</td>\n",
       "      <td>21.0</td>\n",
       "      <td>16.0</td>\n",
       "      <td>22.0</td>\n",
       "      <td>Y</td>\n",
       "      <td>0</td>\n",
       "      <td>N</td>\n",
       "      <td>1</td>\n",
       "    </tr>\n",
       "    <tr>\n",
       "      <th>3</th>\n",
       "      <td>3</td>\n",
       "      <td>M</td>\n",
       "      <td>40</td>\n",
       "      <td>165</td>\n",
       "      <td>70</td>\n",
       "      <td>88.0</td>\n",
       "      <td>1.5</td>\n",
       "      <td>1.5</td>\n",
       "      <td>1.0</td>\n",
       "      <td>1.0</td>\n",
       "      <td>...</td>\n",
       "      <td>14.7</td>\n",
       "      <td>1.0</td>\n",
       "      <td>1.0</td>\n",
       "      <td>19.0</td>\n",
       "      <td>26.0</td>\n",
       "      <td>18.0</td>\n",
       "      <td>Y</td>\n",
       "      <td>0</td>\n",
       "      <td>Y</td>\n",
       "      <td>0</td>\n",
       "    </tr>\n",
       "    <tr>\n",
       "      <th>4</th>\n",
       "      <td>4</td>\n",
       "      <td>F</td>\n",
       "      <td>40</td>\n",
       "      <td>155</td>\n",
       "      <td>60</td>\n",
       "      <td>86.0</td>\n",
       "      <td>1.0</td>\n",
       "      <td>1.0</td>\n",
       "      <td>1.0</td>\n",
       "      <td>1.0</td>\n",
       "      <td>...</td>\n",
       "      <td>12.5</td>\n",
       "      <td>1.0</td>\n",
       "      <td>0.6</td>\n",
       "      <td>16.0</td>\n",
       "      <td>14.0</td>\n",
       "      <td>22.0</td>\n",
       "      <td>Y</td>\n",
       "      <td>0</td>\n",
       "      <td>N</td>\n",
       "      <td>0</td>\n",
       "    </tr>\n",
       "    <tr>\n",
       "      <th>...</th>\n",
       "      <td>...</td>\n",
       "      <td>...</td>\n",
       "      <td>...</td>\n",
       "      <td>...</td>\n",
       "      <td>...</td>\n",
       "      <td>...</td>\n",
       "      <td>...</td>\n",
       "      <td>...</td>\n",
       "      <td>...</td>\n",
       "      <td>...</td>\n",
       "      <td>...</td>\n",
       "      <td>...</td>\n",
       "      <td>...</td>\n",
       "      <td>...</td>\n",
       "      <td>...</td>\n",
       "      <td>...</td>\n",
       "      <td>...</td>\n",
       "      <td>...</td>\n",
       "      <td>...</td>\n",
       "      <td>...</td>\n",
       "      <td>...</td>\n",
       "    </tr>\n",
       "    <tr>\n",
       "      <th>55687</th>\n",
       "      <td>55676</td>\n",
       "      <td>F</td>\n",
       "      <td>40</td>\n",
       "      <td>170</td>\n",
       "      <td>65</td>\n",
       "      <td>75.0</td>\n",
       "      <td>0.9</td>\n",
       "      <td>0.9</td>\n",
       "      <td>1.0</td>\n",
       "      <td>1.0</td>\n",
       "      <td>...</td>\n",
       "      <td>12.3</td>\n",
       "      <td>1.0</td>\n",
       "      <td>0.6</td>\n",
       "      <td>14.0</td>\n",
       "      <td>7.0</td>\n",
       "      <td>10.0</td>\n",
       "      <td>Y</td>\n",
       "      <td>1</td>\n",
       "      <td>Y</td>\n",
       "      <td>0</td>\n",
       "    </tr>\n",
       "    <tr>\n",
       "      <th>55688</th>\n",
       "      <td>55681</td>\n",
       "      <td>F</td>\n",
       "      <td>45</td>\n",
       "      <td>160</td>\n",
       "      <td>50</td>\n",
       "      <td>70.0</td>\n",
       "      <td>1.2</td>\n",
       "      <td>1.2</td>\n",
       "      <td>1.0</td>\n",
       "      <td>1.0</td>\n",
       "      <td>...</td>\n",
       "      <td>14.0</td>\n",
       "      <td>1.0</td>\n",
       "      <td>0.9</td>\n",
       "      <td>20.0</td>\n",
       "      <td>12.0</td>\n",
       "      <td>14.0</td>\n",
       "      <td>Y</td>\n",
       "      <td>0</td>\n",
       "      <td>Y</td>\n",
       "      <td>0</td>\n",
       "    </tr>\n",
       "    <tr>\n",
       "      <th>55689</th>\n",
       "      <td>55683</td>\n",
       "      <td>F</td>\n",
       "      <td>55</td>\n",
       "      <td>160</td>\n",
       "      <td>50</td>\n",
       "      <td>68.5</td>\n",
       "      <td>1.0</td>\n",
       "      <td>1.2</td>\n",
       "      <td>1.0</td>\n",
       "      <td>1.0</td>\n",
       "      <td>...</td>\n",
       "      <td>12.4</td>\n",
       "      <td>1.0</td>\n",
       "      <td>0.5</td>\n",
       "      <td>17.0</td>\n",
       "      <td>11.0</td>\n",
       "      <td>12.0</td>\n",
       "      <td>Y</td>\n",
       "      <td>0</td>\n",
       "      <td>N</td>\n",
       "      <td>0</td>\n",
       "    </tr>\n",
       "    <tr>\n",
       "      <th>55690</th>\n",
       "      <td>55684</td>\n",
       "      <td>M</td>\n",
       "      <td>60</td>\n",
       "      <td>165</td>\n",
       "      <td>60</td>\n",
       "      <td>78.0</td>\n",
       "      <td>0.8</td>\n",
       "      <td>1.0</td>\n",
       "      <td>1.0</td>\n",
       "      <td>1.0</td>\n",
       "      <td>...</td>\n",
       "      <td>14.4</td>\n",
       "      <td>1.0</td>\n",
       "      <td>0.7</td>\n",
       "      <td>20.0</td>\n",
       "      <td>19.0</td>\n",
       "      <td>18.0</td>\n",
       "      <td>Y</td>\n",
       "      <td>0</td>\n",
       "      <td>N</td>\n",
       "      <td>0</td>\n",
       "    </tr>\n",
       "    <tr>\n",
       "      <th>55691</th>\n",
       "      <td>55691</td>\n",
       "      <td>M</td>\n",
       "      <td>55</td>\n",
       "      <td>160</td>\n",
       "      <td>65</td>\n",
       "      <td>85.0</td>\n",
       "      <td>0.9</td>\n",
       "      <td>0.7</td>\n",
       "      <td>1.0</td>\n",
       "      <td>1.0</td>\n",
       "      <td>...</td>\n",
       "      <td>15.0</td>\n",
       "      <td>1.0</td>\n",
       "      <td>0.8</td>\n",
       "      <td>26.0</td>\n",
       "      <td>29.0</td>\n",
       "      <td>41.0</td>\n",
       "      <td>Y</td>\n",
       "      <td>0</td>\n",
       "      <td>Y</td>\n",
       "      <td>1</td>\n",
       "    </tr>\n",
       "  </tbody>\n",
       "</table>\n",
       "<p>55692 rows × 27 columns</p>\n",
       "</div>"
      ],
      "text/plain": [
       "          ID gender  age  height(cm)  weight(kg)  waist(cm)  eyesight(left)  \\\n",
       "0          0      F   40         155          60       81.3             1.2   \n",
       "1          1      F   40         160          60       81.0             0.8   \n",
       "2          2      M   55         170          60       80.0             0.8   \n",
       "3          3      M   40         165          70       88.0             1.5   \n",
       "4          4      F   40         155          60       86.0             1.0   \n",
       "...      ...    ...  ...         ...         ...        ...             ...   \n",
       "55687  55676      F   40         170          65       75.0             0.9   \n",
       "55688  55681      F   45         160          50       70.0             1.2   \n",
       "55689  55683      F   55         160          50       68.5             1.0   \n",
       "55690  55684      M   60         165          60       78.0             0.8   \n",
       "55691  55691      M   55         160          65       85.0             0.9   \n",
       "\n",
       "       eyesight(right)  hearing(left)  hearing(right)  ...  hemoglobin  \\\n",
       "0                  1.0            1.0             1.0  ...        12.9   \n",
       "1                  0.6            1.0             1.0  ...        12.7   \n",
       "2                  0.8            1.0             1.0  ...        15.8   \n",
       "3                  1.5            1.0             1.0  ...        14.7   \n",
       "4                  1.0            1.0             1.0  ...        12.5   \n",
       "...                ...            ...             ...  ...         ...   \n",
       "55687              0.9            1.0             1.0  ...        12.3   \n",
       "55688              1.2            1.0             1.0  ...        14.0   \n",
       "55689              1.2            1.0             1.0  ...        12.4   \n",
       "55690              1.0            1.0             1.0  ...        14.4   \n",
       "55691              0.7            1.0             1.0  ...        15.0   \n",
       "\n",
       "       Urine protein  serum creatinine   AST   ALT   Gtp  oral  dental caries  \\\n",
       "0                1.0               0.7  18.0  19.0  27.0     Y              0   \n",
       "1                1.0               0.6  22.0  19.0  18.0     Y              0   \n",
       "2                1.0               1.0  21.0  16.0  22.0     Y              0   \n",
       "3                1.0               1.0  19.0  26.0  18.0     Y              0   \n",
       "4                1.0               0.6  16.0  14.0  22.0     Y              0   \n",
       "...              ...               ...   ...   ...   ...   ...            ...   \n",
       "55687            1.0               0.6  14.0   7.0  10.0     Y              1   \n",
       "55688            1.0               0.9  20.0  12.0  14.0     Y              0   \n",
       "55689            1.0               0.5  17.0  11.0  12.0     Y              0   \n",
       "55690            1.0               0.7  20.0  19.0  18.0     Y              0   \n",
       "55691            1.0               0.8  26.0  29.0  41.0     Y              0   \n",
       "\n",
       "       tartar  smoking  \n",
       "0           Y        0  \n",
       "1           Y        0  \n",
       "2           N        1  \n",
       "3           Y        0  \n",
       "4           N        0  \n",
       "...       ...      ...  \n",
       "55687       Y        0  \n",
       "55688       Y        0  \n",
       "55689       N        0  \n",
       "55690       N        0  \n",
       "55691       Y        1  \n",
       "\n",
       "[55692 rows x 27 columns]"
      ]
     },
     "execution_count": 8,
     "metadata": {},
     "output_type": "execute_result"
    }
   ],
   "source": [
    "import pandas as pd\n",
    "df=pd.read_csv(\"smoking.csv\")\n",
    "df"
   ]
  },
  {
   "cell_type": "markdown",
   "id": "dd9703fd-21f0-4f1f-a077-75659d7e1d09",
   "metadata": {},
   "source": [
    "**Insight**\n",
    "\n",
    "Loading the file from local system to jupyter notebook"
   ]
  },
  {
   "cell_type": "code",
   "execution_count": 10,
   "id": "ad8006e6-ac76-4838-971a-c8a4f52d5a28",
   "metadata": {},
   "outputs": [
    {
     "data": {
      "text/plain": [
       "(55692, 27)"
      ]
     },
     "execution_count": 10,
     "metadata": {},
     "output_type": "execute_result"
    }
   ],
   "source": [
    "# Prints the shape i.e. the row size by column size of the dataset\n",
    "df.shape"
   ]
  },
  {
   "cell_type": "markdown",
   "id": "38317432-85b8-43f7-b562-04810f6eec30",
   "metadata": {},
   "source": [
    "**Insight**   \n",
    "Here we print row and column size of the dataset"
   ]
  },
  {
   "cell_type": "markdown",
   "id": "b115f317-2898-42e7-8f76-2b30dac0c514",
   "metadata": {},
   "source": [
    "# Dataset View"
   ]
  },
  {
   "cell_type": "code",
   "execution_count": 12,
   "id": "83e8948a-a012-4960-ab48-0f7718537ebf",
   "metadata": {},
   "outputs": [
    {
     "data": {
      "text/html": [
       "<div>\n",
       "<style scoped>\n",
       "    .dataframe tbody tr th:only-of-type {\n",
       "        vertical-align: middle;\n",
       "    }\n",
       "\n",
       "    .dataframe tbody tr th {\n",
       "        vertical-align: top;\n",
       "    }\n",
       "\n",
       "    .dataframe thead th {\n",
       "        text-align: right;\n",
       "    }\n",
       "</style>\n",
       "<table border=\"1\" class=\"dataframe\">\n",
       "  <thead>\n",
       "    <tr style=\"text-align: right;\">\n",
       "      <th></th>\n",
       "      <th>ID</th>\n",
       "      <th>gender</th>\n",
       "      <th>age</th>\n",
       "      <th>height(cm)</th>\n",
       "      <th>weight(kg)</th>\n",
       "      <th>waist(cm)</th>\n",
       "      <th>eyesight(left)</th>\n",
       "      <th>eyesight(right)</th>\n",
       "      <th>hearing(left)</th>\n",
       "      <th>hearing(right)</th>\n",
       "      <th>...</th>\n",
       "      <th>hemoglobin</th>\n",
       "      <th>Urine protein</th>\n",
       "      <th>serum creatinine</th>\n",
       "      <th>AST</th>\n",
       "      <th>ALT</th>\n",
       "      <th>Gtp</th>\n",
       "      <th>oral</th>\n",
       "      <th>dental caries</th>\n",
       "      <th>tartar</th>\n",
       "      <th>smoking</th>\n",
       "    </tr>\n",
       "  </thead>\n",
       "  <tbody>\n",
       "    <tr>\n",
       "      <th>0</th>\n",
       "      <td>0</td>\n",
       "      <td>F</td>\n",
       "      <td>40</td>\n",
       "      <td>155</td>\n",
       "      <td>60</td>\n",
       "      <td>81.3</td>\n",
       "      <td>1.2</td>\n",
       "      <td>1.0</td>\n",
       "      <td>1.0</td>\n",
       "      <td>1.0</td>\n",
       "      <td>...</td>\n",
       "      <td>12.9</td>\n",
       "      <td>1.0</td>\n",
       "      <td>0.7</td>\n",
       "      <td>18.0</td>\n",
       "      <td>19.0</td>\n",
       "      <td>27.0</td>\n",
       "      <td>Y</td>\n",
       "      <td>0</td>\n",
       "      <td>Y</td>\n",
       "      <td>0</td>\n",
       "    </tr>\n",
       "    <tr>\n",
       "      <th>1</th>\n",
       "      <td>1</td>\n",
       "      <td>F</td>\n",
       "      <td>40</td>\n",
       "      <td>160</td>\n",
       "      <td>60</td>\n",
       "      <td>81.0</td>\n",
       "      <td>0.8</td>\n",
       "      <td>0.6</td>\n",
       "      <td>1.0</td>\n",
       "      <td>1.0</td>\n",
       "      <td>...</td>\n",
       "      <td>12.7</td>\n",
       "      <td>1.0</td>\n",
       "      <td>0.6</td>\n",
       "      <td>22.0</td>\n",
       "      <td>19.0</td>\n",
       "      <td>18.0</td>\n",
       "      <td>Y</td>\n",
       "      <td>0</td>\n",
       "      <td>Y</td>\n",
       "      <td>0</td>\n",
       "    </tr>\n",
       "    <tr>\n",
       "      <th>2</th>\n",
       "      <td>2</td>\n",
       "      <td>M</td>\n",
       "      <td>55</td>\n",
       "      <td>170</td>\n",
       "      <td>60</td>\n",
       "      <td>80.0</td>\n",
       "      <td>0.8</td>\n",
       "      <td>0.8</td>\n",
       "      <td>1.0</td>\n",
       "      <td>1.0</td>\n",
       "      <td>...</td>\n",
       "      <td>15.8</td>\n",
       "      <td>1.0</td>\n",
       "      <td>1.0</td>\n",
       "      <td>21.0</td>\n",
       "      <td>16.0</td>\n",
       "      <td>22.0</td>\n",
       "      <td>Y</td>\n",
       "      <td>0</td>\n",
       "      <td>N</td>\n",
       "      <td>1</td>\n",
       "    </tr>\n",
       "    <tr>\n",
       "      <th>3</th>\n",
       "      <td>3</td>\n",
       "      <td>M</td>\n",
       "      <td>40</td>\n",
       "      <td>165</td>\n",
       "      <td>70</td>\n",
       "      <td>88.0</td>\n",
       "      <td>1.5</td>\n",
       "      <td>1.5</td>\n",
       "      <td>1.0</td>\n",
       "      <td>1.0</td>\n",
       "      <td>...</td>\n",
       "      <td>14.7</td>\n",
       "      <td>1.0</td>\n",
       "      <td>1.0</td>\n",
       "      <td>19.0</td>\n",
       "      <td>26.0</td>\n",
       "      <td>18.0</td>\n",
       "      <td>Y</td>\n",
       "      <td>0</td>\n",
       "      <td>Y</td>\n",
       "      <td>0</td>\n",
       "    </tr>\n",
       "    <tr>\n",
       "      <th>4</th>\n",
       "      <td>4</td>\n",
       "      <td>F</td>\n",
       "      <td>40</td>\n",
       "      <td>155</td>\n",
       "      <td>60</td>\n",
       "      <td>86.0</td>\n",
       "      <td>1.0</td>\n",
       "      <td>1.0</td>\n",
       "      <td>1.0</td>\n",
       "      <td>1.0</td>\n",
       "      <td>...</td>\n",
       "      <td>12.5</td>\n",
       "      <td>1.0</td>\n",
       "      <td>0.6</td>\n",
       "      <td>16.0</td>\n",
       "      <td>14.0</td>\n",
       "      <td>22.0</td>\n",
       "      <td>Y</td>\n",
       "      <td>0</td>\n",
       "      <td>N</td>\n",
       "      <td>0</td>\n",
       "    </tr>\n",
       "  </tbody>\n",
       "</table>\n",
       "<p>5 rows × 27 columns</p>\n",
       "</div>"
      ],
      "text/plain": [
       "   ID gender  age  height(cm)  weight(kg)  waist(cm)  eyesight(left)  \\\n",
       "0   0      F   40         155          60       81.3             1.2   \n",
       "1   1      F   40         160          60       81.0             0.8   \n",
       "2   2      M   55         170          60       80.0             0.8   \n",
       "3   3      M   40         165          70       88.0             1.5   \n",
       "4   4      F   40         155          60       86.0             1.0   \n",
       "\n",
       "   eyesight(right)  hearing(left)  hearing(right)  ...  hemoglobin  \\\n",
       "0              1.0            1.0             1.0  ...        12.9   \n",
       "1              0.6            1.0             1.0  ...        12.7   \n",
       "2              0.8            1.0             1.0  ...        15.8   \n",
       "3              1.5            1.0             1.0  ...        14.7   \n",
       "4              1.0            1.0             1.0  ...        12.5   \n",
       "\n",
       "   Urine protein  serum creatinine   AST   ALT   Gtp  oral  dental caries  \\\n",
       "0            1.0               0.7  18.0  19.0  27.0     Y              0   \n",
       "1            1.0               0.6  22.0  19.0  18.0     Y              0   \n",
       "2            1.0               1.0  21.0  16.0  22.0     Y              0   \n",
       "3            1.0               1.0  19.0  26.0  18.0     Y              0   \n",
       "4            1.0               0.6  16.0  14.0  22.0     Y              0   \n",
       "\n",
       "   tartar  smoking  \n",
       "0       Y        0  \n",
       "1       Y        0  \n",
       "2       N        1  \n",
       "3       Y        0  \n",
       "4       N        0  \n",
       "\n",
       "[5 rows x 27 columns]"
      ]
     },
     "execution_count": 12,
     "metadata": {},
     "output_type": "execute_result"
    }
   ],
   "source": [
    "# Prints the first 5 rows of the dataset\n",
    "df.head()"
   ]
  },
  {
   "cell_type": "markdown",
   "id": "31c2764f-873f-4cd1-ab84-c253fe0be391",
   "metadata": {},
   "source": [
    "**Insight**   \n",
    "Here we print first five rows of the dataset."
   ]
  },
  {
   "cell_type": "code",
   "execution_count": 14,
   "id": "c0cd4b0e-4ed0-43b8-912c-4ada9c5d47dd",
   "metadata": {},
   "outputs": [
    {
     "data": {
      "text/html": [
       "<div>\n",
       "<style scoped>\n",
       "    .dataframe tbody tr th:only-of-type {\n",
       "        vertical-align: middle;\n",
       "    }\n",
       "\n",
       "    .dataframe tbody tr th {\n",
       "        vertical-align: top;\n",
       "    }\n",
       "\n",
       "    .dataframe thead th {\n",
       "        text-align: right;\n",
       "    }\n",
       "</style>\n",
       "<table border=\"1\" class=\"dataframe\">\n",
       "  <thead>\n",
       "    <tr style=\"text-align: right;\">\n",
       "      <th></th>\n",
       "      <th>ID</th>\n",
       "      <th>gender</th>\n",
       "      <th>age</th>\n",
       "      <th>height(cm)</th>\n",
       "      <th>weight(kg)</th>\n",
       "      <th>waist(cm)</th>\n",
       "      <th>eyesight(left)</th>\n",
       "      <th>eyesight(right)</th>\n",
       "      <th>hearing(left)</th>\n",
       "      <th>hearing(right)</th>\n",
       "      <th>...</th>\n",
       "      <th>hemoglobin</th>\n",
       "      <th>Urine protein</th>\n",
       "      <th>serum creatinine</th>\n",
       "      <th>AST</th>\n",
       "      <th>ALT</th>\n",
       "      <th>Gtp</th>\n",
       "      <th>oral</th>\n",
       "      <th>dental caries</th>\n",
       "      <th>tartar</th>\n",
       "      <th>smoking</th>\n",
       "    </tr>\n",
       "  </thead>\n",
       "  <tbody>\n",
       "    <tr>\n",
       "      <th>55687</th>\n",
       "      <td>55676</td>\n",
       "      <td>F</td>\n",
       "      <td>40</td>\n",
       "      <td>170</td>\n",
       "      <td>65</td>\n",
       "      <td>75.0</td>\n",
       "      <td>0.9</td>\n",
       "      <td>0.9</td>\n",
       "      <td>1.0</td>\n",
       "      <td>1.0</td>\n",
       "      <td>...</td>\n",
       "      <td>12.3</td>\n",
       "      <td>1.0</td>\n",
       "      <td>0.6</td>\n",
       "      <td>14.0</td>\n",
       "      <td>7.0</td>\n",
       "      <td>10.0</td>\n",
       "      <td>Y</td>\n",
       "      <td>1</td>\n",
       "      <td>Y</td>\n",
       "      <td>0</td>\n",
       "    </tr>\n",
       "    <tr>\n",
       "      <th>55688</th>\n",
       "      <td>55681</td>\n",
       "      <td>F</td>\n",
       "      <td>45</td>\n",
       "      <td>160</td>\n",
       "      <td>50</td>\n",
       "      <td>70.0</td>\n",
       "      <td>1.2</td>\n",
       "      <td>1.2</td>\n",
       "      <td>1.0</td>\n",
       "      <td>1.0</td>\n",
       "      <td>...</td>\n",
       "      <td>14.0</td>\n",
       "      <td>1.0</td>\n",
       "      <td>0.9</td>\n",
       "      <td>20.0</td>\n",
       "      <td>12.0</td>\n",
       "      <td>14.0</td>\n",
       "      <td>Y</td>\n",
       "      <td>0</td>\n",
       "      <td>Y</td>\n",
       "      <td>0</td>\n",
       "    </tr>\n",
       "    <tr>\n",
       "      <th>55689</th>\n",
       "      <td>55683</td>\n",
       "      <td>F</td>\n",
       "      <td>55</td>\n",
       "      <td>160</td>\n",
       "      <td>50</td>\n",
       "      <td>68.5</td>\n",
       "      <td>1.0</td>\n",
       "      <td>1.2</td>\n",
       "      <td>1.0</td>\n",
       "      <td>1.0</td>\n",
       "      <td>...</td>\n",
       "      <td>12.4</td>\n",
       "      <td>1.0</td>\n",
       "      <td>0.5</td>\n",
       "      <td>17.0</td>\n",
       "      <td>11.0</td>\n",
       "      <td>12.0</td>\n",
       "      <td>Y</td>\n",
       "      <td>0</td>\n",
       "      <td>N</td>\n",
       "      <td>0</td>\n",
       "    </tr>\n",
       "    <tr>\n",
       "      <th>55690</th>\n",
       "      <td>55684</td>\n",
       "      <td>M</td>\n",
       "      <td>60</td>\n",
       "      <td>165</td>\n",
       "      <td>60</td>\n",
       "      <td>78.0</td>\n",
       "      <td>0.8</td>\n",
       "      <td>1.0</td>\n",
       "      <td>1.0</td>\n",
       "      <td>1.0</td>\n",
       "      <td>...</td>\n",
       "      <td>14.4</td>\n",
       "      <td>1.0</td>\n",
       "      <td>0.7</td>\n",
       "      <td>20.0</td>\n",
       "      <td>19.0</td>\n",
       "      <td>18.0</td>\n",
       "      <td>Y</td>\n",
       "      <td>0</td>\n",
       "      <td>N</td>\n",
       "      <td>0</td>\n",
       "    </tr>\n",
       "    <tr>\n",
       "      <th>55691</th>\n",
       "      <td>55691</td>\n",
       "      <td>M</td>\n",
       "      <td>55</td>\n",
       "      <td>160</td>\n",
       "      <td>65</td>\n",
       "      <td>85.0</td>\n",
       "      <td>0.9</td>\n",
       "      <td>0.7</td>\n",
       "      <td>1.0</td>\n",
       "      <td>1.0</td>\n",
       "      <td>...</td>\n",
       "      <td>15.0</td>\n",
       "      <td>1.0</td>\n",
       "      <td>0.8</td>\n",
       "      <td>26.0</td>\n",
       "      <td>29.0</td>\n",
       "      <td>41.0</td>\n",
       "      <td>Y</td>\n",
       "      <td>0</td>\n",
       "      <td>Y</td>\n",
       "      <td>1</td>\n",
       "    </tr>\n",
       "  </tbody>\n",
       "</table>\n",
       "<p>5 rows × 27 columns</p>\n",
       "</div>"
      ],
      "text/plain": [
       "          ID gender  age  height(cm)  weight(kg)  waist(cm)  eyesight(left)  \\\n",
       "55687  55676      F   40         170          65       75.0             0.9   \n",
       "55688  55681      F   45         160          50       70.0             1.2   \n",
       "55689  55683      F   55         160          50       68.5             1.0   \n",
       "55690  55684      M   60         165          60       78.0             0.8   \n",
       "55691  55691      M   55         160          65       85.0             0.9   \n",
       "\n",
       "       eyesight(right)  hearing(left)  hearing(right)  ...  hemoglobin  \\\n",
       "55687              0.9            1.0             1.0  ...        12.3   \n",
       "55688              1.2            1.0             1.0  ...        14.0   \n",
       "55689              1.2            1.0             1.0  ...        12.4   \n",
       "55690              1.0            1.0             1.0  ...        14.4   \n",
       "55691              0.7            1.0             1.0  ...        15.0   \n",
       "\n",
       "       Urine protein  serum creatinine   AST   ALT   Gtp  oral  dental caries  \\\n",
       "55687            1.0               0.6  14.0   7.0  10.0     Y              1   \n",
       "55688            1.0               0.9  20.0  12.0  14.0     Y              0   \n",
       "55689            1.0               0.5  17.0  11.0  12.0     Y              0   \n",
       "55690            1.0               0.7  20.0  19.0  18.0     Y              0   \n",
       "55691            1.0               0.8  26.0  29.0  41.0     Y              0   \n",
       "\n",
       "       tartar  smoking  \n",
       "55687       Y        0  \n",
       "55688       Y        0  \n",
       "55689       N        0  \n",
       "55690       N        0  \n",
       "55691       Y        1  \n",
       "\n",
       "[5 rows x 27 columns]"
      ]
     },
     "execution_count": 14,
     "metadata": {},
     "output_type": "execute_result"
    }
   ],
   "source": [
    "# Prints the last 5 rows of the dataset\n",
    "df.tail()"
   ]
  },
  {
   "cell_type": "markdown",
   "id": "af508e3e-8c39-4a9d-ba39-d48426b78740",
   "metadata": {},
   "source": [
    "**Insight**    \n",
    "Here we print last five rows of the dataset"
   ]
  },
  {
   "cell_type": "code",
   "execution_count": 16,
   "id": "ad333766-8d3e-462c-a2ca-890017244a80",
   "metadata": {},
   "outputs": [
    {
     "data": {
      "text/plain": [
       "Index(['ID', 'gender', 'age', 'height(cm)', 'weight(kg)', 'waist(cm)',\n",
       "       'eyesight(left)', 'eyesight(right)', 'hearing(left)', 'hearing(right)',\n",
       "       'systolic', 'relaxation', 'fasting blood sugar', 'Cholesterol',\n",
       "       'triglyceride', 'HDL', 'LDL', 'hemoglobin', 'Urine protein',\n",
       "       'serum creatinine', 'AST', 'ALT', 'Gtp', 'oral', 'dental caries',\n",
       "       'tartar', 'smoking'],\n",
       "      dtype='object')"
      ]
     },
     "execution_count": 16,
     "metadata": {},
     "output_type": "execute_result"
    }
   ],
   "source": [
    "# To print the column names present in the dataset.\n",
    "df.columns"
   ]
  },
  {
   "cell_type": "markdown",
   "id": "1044c7f5-7c9a-4bd5-8c6d-bed3d68ae1b9",
   "metadata": {},
   "source": [
    "**Insight**   \n",
    "Print the column name present in the dataset"
   ]
  },
  {
   "cell_type": "markdown",
   "id": "17c4ffde-f806-4065-ad88-98722cad581c",
   "metadata": {},
   "source": [
    "# Understanding Variable"
   ]
  },
  {
   "cell_type": "markdown",
   "id": "5b5a1af1-b742-4bf9-aa2b-45fbf17a80b9",
   "metadata": {},
   "source": [
    "**ID :** Index\n",
    "\n",
    "**Gender:** gender of a person (M or F)\n",
    "\n",
    "**Age:** age of a person (5-years gap)\n",
    "\n",
    "**height(cm):** height of a person \n",
    "\n",
    "**weight(kg):** weight of a person\n",
    "\n",
    "**waist(cm):** waist circumference length\n",
    "\n",
    "**eyesight(left):** left eyesight\n",
    "\n",
    "**eyesight(right):** right eyesight\n",
    "\n",
    "**hearing(left):** hearing pulse in left ear \n",
    "\n",
    "**hearing(right):** hearing pulse in right ear\n",
    "\n",
    "**systolic:** Blood pressure\n",
    "\n",
    "**cortisol:** stress hormone\n",
    "\n",
    "**fasting blood sugar:** Blood test\n",
    "\n",
    "**Cholesterol:** total\n",
    "\n",
    "**triglyceride:** Lipid found in body\n",
    "\n",
    "**HDL:** cholesterol type\r\n",
    "\n",
    "**LDL:** cholesterol type\n",
    "\n",
    "**hemoglobin:** Transporting oxygen in blood\n",
    "\n",
    "**Urine protein:** Excess of bloodborne proteins in urine\n",
    "\n",
    "**serum creatinine:** Amount of creatinine in blood\n",
    "\n",
    "**AST:** glutamic oxaloacetic transaminase type\n",
    "\n",
    "**ALT:** glutamic oxaloacetic transaminase type\n",
    "\n",
    "**Gtp :** γ-GTP\n",
    "\n",
    "**oral:** Oral Examination status\n",
    "\n",
    "**dental caries:** Tooth decay\r\n",
    "\n",
    "**tartar:** tartar status\n",
    "\n",
    "**smoking:** Smoker (0 or 1)\n",
    "\n",
    "\r\n",
    "\n",
    "\n",
    "\n"
   ]
  },
  {
   "cell_type": "markdown",
   "id": "b05fcf20-0885-4c98-9dee-579d7ef82cad",
   "metadata": {},
   "source": [
    "# Dataset Information"
   ]
  },
  {
   "cell_type": "code",
   "execution_count": 18,
   "id": "8ad1f579-7755-47d9-886f-d9a949a70667",
   "metadata": {},
   "outputs": [
    {
     "name": "stdout",
     "output_type": "stream",
     "text": [
      "<class 'pandas.core.frame.DataFrame'>\n",
      "RangeIndex: 55692 entries, 0 to 55691\n",
      "Data columns (total 27 columns):\n",
      " #   Column               Non-Null Count  Dtype  \n",
      "---  ------               --------------  -----  \n",
      " 0   ID                   55692 non-null  int64  \n",
      " 1   gender               55692 non-null  object \n",
      " 2   age                  55692 non-null  int64  \n",
      " 3   height(cm)           55692 non-null  int64  \n",
      " 4   weight(kg)           55692 non-null  int64  \n",
      " 5   waist(cm)            55692 non-null  float64\n",
      " 6   eyesight(left)       55692 non-null  float64\n",
      " 7   eyesight(right)      55692 non-null  float64\n",
      " 8   hearing(left)        55692 non-null  float64\n",
      " 9   hearing(right)       55692 non-null  float64\n",
      " 10  systolic             55692 non-null  float64\n",
      " 11  relaxation           55692 non-null  float64\n",
      " 12  fasting blood sugar  55692 non-null  float64\n",
      " 13  Cholesterol          55692 non-null  float64\n",
      " 14  triglyceride         55692 non-null  float64\n",
      " 15  HDL                  55692 non-null  float64\n",
      " 16  LDL                  55692 non-null  float64\n",
      " 17  hemoglobin           55692 non-null  float64\n",
      " 18  Urine protein        55692 non-null  float64\n",
      " 19  serum creatinine     55692 non-null  float64\n",
      " 20  AST                  55692 non-null  float64\n",
      " 21  ALT                  55692 non-null  float64\n",
      " 22  Gtp                  55692 non-null  float64\n",
      " 23  oral                 55692 non-null  object \n",
      " 24  dental caries        55692 non-null  int64  \n",
      " 25  tartar               55692 non-null  object \n",
      " 26  smoking              55692 non-null  int64  \n",
      "dtypes: float64(18), int64(6), object(3)\n",
      "memory usage: 11.5+ MB\n"
     ]
    }
   ],
   "source": [
    "# Gives the a concise summary of a DataFrame.\n",
    "df.info()"
   ]
  },
  {
   "cell_type": "markdown",
   "id": "4b6c91bb-049d-49eb-8b6f-a3610150b1df",
   "metadata": {},
   "source": [
    "**Insight**   \n",
    "We use info() to get concise summary of our dataset i.e column, non null , count , memory usage and datatype."
   ]
  },
  {
   "cell_type": "markdown",
   "id": "219eb85b-8353-43c7-874e-f23bc9301516",
   "metadata": {},
   "source": [
    "# Missing Values/Null Values"
   ]
  },
  {
   "cell_type": "code",
   "execution_count": 20,
   "id": "4a96c061-951a-4d6b-9db7-e7fd11d53bea",
   "metadata": {},
   "outputs": [
    {
     "data": {
      "text/plain": [
       "ID                     0\n",
       "gender                 0\n",
       "age                    0\n",
       "height(cm)             0\n",
       "weight(kg)             0\n",
       "waist(cm)              0\n",
       "eyesight(left)         0\n",
       "eyesight(right)        0\n",
       "hearing(left)          0\n",
       "hearing(right)         0\n",
       "systolic               0\n",
       "relaxation             0\n",
       "fasting blood sugar    0\n",
       "Cholesterol            0\n",
       "triglyceride           0\n",
       "HDL                    0\n",
       "LDL                    0\n",
       "hemoglobin             0\n",
       "Urine protein          0\n",
       "serum creatinine       0\n",
       "AST                    0\n",
       "ALT                    0\n",
       "Gtp                    0\n",
       "oral                   0\n",
       "dental caries          0\n",
       "tartar                 0\n",
       "smoking                0\n",
       "dtype: int64"
      ]
     },
     "execution_count": 20,
     "metadata": {},
     "output_type": "execute_result"
    }
   ],
   "source": [
    "# It is used to identify and count missing values (NaNs) in a DataFrame\n",
    "df.isnull().sum()"
   ]
  },
  {
   "cell_type": "markdown",
   "id": "24321838-a6c8-418a-b801-da8a9cdec58a",
   "metadata": {},
   "source": [
    "**Insight**   \n",
    "Here we used isnull().sum() to check whether there are missing values and count missing values (NaNs) in a DataFrame.\n",
    "As we can see there are no missing values so there is no need to replace missing values with 0."
   ]
  },
  {
   "cell_type": "markdown",
   "id": "02ba157b-340e-4c2c-8e9e-b221e4e315ed",
   "metadata": {},
   "source": [
    "# Duplicate Values"
   ]
  },
  {
   "cell_type": "code",
   "execution_count": 22,
   "id": "b031aa1c-3c48-4ee4-a95b-3d98ad40d5d2",
   "metadata": {},
   "outputs": [
    {
     "data": {
      "text/plain": [
       "0"
      ]
     },
     "execution_count": 22,
     "metadata": {},
     "output_type": "execute_result"
    }
   ],
   "source": [
    "# to check for duplicate rows in a DataFrame\n",
    "df.duplicated().sum()"
   ]
  },
  {
   "cell_type": "markdown",
   "id": "fc3fbf84-8157-4945-a75e-cb2a012d33db",
   "metadata": {},
   "source": [
    "**Insight**   \n",
    "Here we used df.duplicated().sum() to check whether if there are duplicate rows or not and we found that there are no duplicate rows in the data frame so there is no need to remove duplicate rows from a Dataframe."
   ]
  },
  {
   "cell_type": "markdown",
   "id": "2c2be243-6584-4c68-b74e-26492e4af180",
   "metadata": {},
   "source": [
    "# REMOVING IRRELEVENT COLUMNS"
   ]
  },
  {
   "cell_type": "code",
   "execution_count": 24,
   "id": "54e19703-b7b6-4f72-8fa6-f687fb5f5630",
   "metadata": {},
   "outputs": [
    {
     "data": {
      "text/plain": [
       "(55692, 27)"
      ]
     },
     "execution_count": 24,
     "metadata": {},
     "output_type": "execute_result"
    }
   ],
   "source": [
    "df.head()\n",
    "df.shape"
   ]
  },
  {
   "cell_type": "markdown",
   "id": "0a111b8b-599d-4e02-8fc3-9b45945eb805",
   "metadata": {},
   "source": [
    "**Insight**   \n",
    "Here we again print first five rows of the dataset.There are 55692 rows and 27 columns in the dataset"
   ]
  },
  {
   "cell_type": "code",
   "execution_count": 26,
   "id": "4abe1b27-509a-4c6e-9ed3-30b512f7f634",
   "metadata": {},
   "outputs": [
    {
     "data": {
      "text/html": [
       "<div>\n",
       "<style scoped>\n",
       "    .dataframe tbody tr th:only-of-type {\n",
       "        vertical-align: middle;\n",
       "    }\n",
       "\n",
       "    .dataframe tbody tr th {\n",
       "        vertical-align: top;\n",
       "    }\n",
       "\n",
       "    .dataframe thead th {\n",
       "        text-align: right;\n",
       "    }\n",
       "</style>\n",
       "<table border=\"1\" class=\"dataframe\">\n",
       "  <thead>\n",
       "    <tr style=\"text-align: right;\">\n",
       "      <th></th>\n",
       "      <th>gender</th>\n",
       "      <th>age</th>\n",
       "      <th>height(cm)</th>\n",
       "      <th>weight(kg)</th>\n",
       "      <th>waist(cm)</th>\n",
       "      <th>eyesight(left)</th>\n",
       "      <th>eyesight(right)</th>\n",
       "      <th>hearing(left)</th>\n",
       "      <th>hearing(right)</th>\n",
       "      <th>systolic</th>\n",
       "      <th>...</th>\n",
       "      <th>LDL</th>\n",
       "      <th>hemoglobin</th>\n",
       "      <th>Urine protein</th>\n",
       "      <th>serum creatinine</th>\n",
       "      <th>AST</th>\n",
       "      <th>ALT</th>\n",
       "      <th>Gtp</th>\n",
       "      <th>dental caries</th>\n",
       "      <th>tartar</th>\n",
       "      <th>smoking</th>\n",
       "    </tr>\n",
       "  </thead>\n",
       "  <tbody>\n",
       "    <tr>\n",
       "      <th>0</th>\n",
       "      <td>F</td>\n",
       "      <td>40</td>\n",
       "      <td>155</td>\n",
       "      <td>60</td>\n",
       "      <td>81.3</td>\n",
       "      <td>1.2</td>\n",
       "      <td>1.0</td>\n",
       "      <td>1.0</td>\n",
       "      <td>1.0</td>\n",
       "      <td>114.0</td>\n",
       "      <td>...</td>\n",
       "      <td>126.0</td>\n",
       "      <td>12.9</td>\n",
       "      <td>1.0</td>\n",
       "      <td>0.7</td>\n",
       "      <td>18.0</td>\n",
       "      <td>19.0</td>\n",
       "      <td>27.0</td>\n",
       "      <td>0</td>\n",
       "      <td>Y</td>\n",
       "      <td>0</td>\n",
       "    </tr>\n",
       "    <tr>\n",
       "      <th>1</th>\n",
       "      <td>F</td>\n",
       "      <td>40</td>\n",
       "      <td>160</td>\n",
       "      <td>60</td>\n",
       "      <td>81.0</td>\n",
       "      <td>0.8</td>\n",
       "      <td>0.6</td>\n",
       "      <td>1.0</td>\n",
       "      <td>1.0</td>\n",
       "      <td>119.0</td>\n",
       "      <td>...</td>\n",
       "      <td>127.0</td>\n",
       "      <td>12.7</td>\n",
       "      <td>1.0</td>\n",
       "      <td>0.6</td>\n",
       "      <td>22.0</td>\n",
       "      <td>19.0</td>\n",
       "      <td>18.0</td>\n",
       "      <td>0</td>\n",
       "      <td>Y</td>\n",
       "      <td>0</td>\n",
       "    </tr>\n",
       "    <tr>\n",
       "      <th>2</th>\n",
       "      <td>M</td>\n",
       "      <td>55</td>\n",
       "      <td>170</td>\n",
       "      <td>60</td>\n",
       "      <td>80.0</td>\n",
       "      <td>0.8</td>\n",
       "      <td>0.8</td>\n",
       "      <td>1.0</td>\n",
       "      <td>1.0</td>\n",
       "      <td>138.0</td>\n",
       "      <td>...</td>\n",
       "      <td>151.0</td>\n",
       "      <td>15.8</td>\n",
       "      <td>1.0</td>\n",
       "      <td>1.0</td>\n",
       "      <td>21.0</td>\n",
       "      <td>16.0</td>\n",
       "      <td>22.0</td>\n",
       "      <td>0</td>\n",
       "      <td>N</td>\n",
       "      <td>1</td>\n",
       "    </tr>\n",
       "    <tr>\n",
       "      <th>3</th>\n",
       "      <td>M</td>\n",
       "      <td>40</td>\n",
       "      <td>165</td>\n",
       "      <td>70</td>\n",
       "      <td>88.0</td>\n",
       "      <td>1.5</td>\n",
       "      <td>1.5</td>\n",
       "      <td>1.0</td>\n",
       "      <td>1.0</td>\n",
       "      <td>100.0</td>\n",
       "      <td>...</td>\n",
       "      <td>226.0</td>\n",
       "      <td>14.7</td>\n",
       "      <td>1.0</td>\n",
       "      <td>1.0</td>\n",
       "      <td>19.0</td>\n",
       "      <td>26.0</td>\n",
       "      <td>18.0</td>\n",
       "      <td>0</td>\n",
       "      <td>Y</td>\n",
       "      <td>0</td>\n",
       "    </tr>\n",
       "    <tr>\n",
       "      <th>4</th>\n",
       "      <td>F</td>\n",
       "      <td>40</td>\n",
       "      <td>155</td>\n",
       "      <td>60</td>\n",
       "      <td>86.0</td>\n",
       "      <td>1.0</td>\n",
       "      <td>1.0</td>\n",
       "      <td>1.0</td>\n",
       "      <td>1.0</td>\n",
       "      <td>120.0</td>\n",
       "      <td>...</td>\n",
       "      <td>107.0</td>\n",
       "      <td>12.5</td>\n",
       "      <td>1.0</td>\n",
       "      <td>0.6</td>\n",
       "      <td>16.0</td>\n",
       "      <td>14.0</td>\n",
       "      <td>22.0</td>\n",
       "      <td>0</td>\n",
       "      <td>N</td>\n",
       "      <td>0</td>\n",
       "    </tr>\n",
       "    <tr>\n",
       "      <th>...</th>\n",
       "      <td>...</td>\n",
       "      <td>...</td>\n",
       "      <td>...</td>\n",
       "      <td>...</td>\n",
       "      <td>...</td>\n",
       "      <td>...</td>\n",
       "      <td>...</td>\n",
       "      <td>...</td>\n",
       "      <td>...</td>\n",
       "      <td>...</td>\n",
       "      <td>...</td>\n",
       "      <td>...</td>\n",
       "      <td>...</td>\n",
       "      <td>...</td>\n",
       "      <td>...</td>\n",
       "      <td>...</td>\n",
       "      <td>...</td>\n",
       "      <td>...</td>\n",
       "      <td>...</td>\n",
       "      <td>...</td>\n",
       "      <td>...</td>\n",
       "    </tr>\n",
       "    <tr>\n",
       "      <th>55687</th>\n",
       "      <td>F</td>\n",
       "      <td>40</td>\n",
       "      <td>170</td>\n",
       "      <td>65</td>\n",
       "      <td>75.0</td>\n",
       "      <td>0.9</td>\n",
       "      <td>0.9</td>\n",
       "      <td>1.0</td>\n",
       "      <td>1.0</td>\n",
       "      <td>110.0</td>\n",
       "      <td>...</td>\n",
       "      <td>118.0</td>\n",
       "      <td>12.3</td>\n",
       "      <td>1.0</td>\n",
       "      <td>0.6</td>\n",
       "      <td>14.0</td>\n",
       "      <td>7.0</td>\n",
       "      <td>10.0</td>\n",
       "      <td>1</td>\n",
       "      <td>Y</td>\n",
       "      <td>0</td>\n",
       "    </tr>\n",
       "    <tr>\n",
       "      <th>55688</th>\n",
       "      <td>F</td>\n",
       "      <td>45</td>\n",
       "      <td>160</td>\n",
       "      <td>50</td>\n",
       "      <td>70.0</td>\n",
       "      <td>1.2</td>\n",
       "      <td>1.2</td>\n",
       "      <td>1.0</td>\n",
       "      <td>1.0</td>\n",
       "      <td>101.0</td>\n",
       "      <td>...</td>\n",
       "      <td>79.0</td>\n",
       "      <td>14.0</td>\n",
       "      <td>1.0</td>\n",
       "      <td>0.9</td>\n",
       "      <td>20.0</td>\n",
       "      <td>12.0</td>\n",
       "      <td>14.0</td>\n",
       "      <td>0</td>\n",
       "      <td>Y</td>\n",
       "      <td>0</td>\n",
       "    </tr>\n",
       "    <tr>\n",
       "      <th>55689</th>\n",
       "      <td>F</td>\n",
       "      <td>55</td>\n",
       "      <td>160</td>\n",
       "      <td>50</td>\n",
       "      <td>68.5</td>\n",
       "      <td>1.0</td>\n",
       "      <td>1.2</td>\n",
       "      <td>1.0</td>\n",
       "      <td>1.0</td>\n",
       "      <td>117.0</td>\n",
       "      <td>...</td>\n",
       "      <td>63.0</td>\n",
       "      <td>12.4</td>\n",
       "      <td>1.0</td>\n",
       "      <td>0.5</td>\n",
       "      <td>17.0</td>\n",
       "      <td>11.0</td>\n",
       "      <td>12.0</td>\n",
       "      <td>0</td>\n",
       "      <td>N</td>\n",
       "      <td>0</td>\n",
       "    </tr>\n",
       "    <tr>\n",
       "      <th>55690</th>\n",
       "      <td>M</td>\n",
       "      <td>60</td>\n",
       "      <td>165</td>\n",
       "      <td>60</td>\n",
       "      <td>78.0</td>\n",
       "      <td>0.8</td>\n",
       "      <td>1.0</td>\n",
       "      <td>1.0</td>\n",
       "      <td>1.0</td>\n",
       "      <td>133.0</td>\n",
       "      <td>...</td>\n",
       "      <td>146.0</td>\n",
       "      <td>14.4</td>\n",
       "      <td>1.0</td>\n",
       "      <td>0.7</td>\n",
       "      <td>20.0</td>\n",
       "      <td>19.0</td>\n",
       "      <td>18.0</td>\n",
       "      <td>0</td>\n",
       "      <td>N</td>\n",
       "      <td>0</td>\n",
       "    </tr>\n",
       "    <tr>\n",
       "      <th>55691</th>\n",
       "      <td>M</td>\n",
       "      <td>55</td>\n",
       "      <td>160</td>\n",
       "      <td>65</td>\n",
       "      <td>85.0</td>\n",
       "      <td>0.9</td>\n",
       "      <td>0.7</td>\n",
       "      <td>1.0</td>\n",
       "      <td>1.0</td>\n",
       "      <td>124.0</td>\n",
       "      <td>...</td>\n",
       "      <td>150.0</td>\n",
       "      <td>15.0</td>\n",
       "      <td>1.0</td>\n",
       "      <td>0.8</td>\n",
       "      <td>26.0</td>\n",
       "      <td>29.0</td>\n",
       "      <td>41.0</td>\n",
       "      <td>0</td>\n",
       "      <td>Y</td>\n",
       "      <td>1</td>\n",
       "    </tr>\n",
       "  </tbody>\n",
       "</table>\n",
       "<p>55692 rows × 25 columns</p>\n",
       "</div>"
      ],
      "text/plain": [
       "      gender  age  height(cm)  weight(kg)  waist(cm)  eyesight(left)  \\\n",
       "0          F   40         155          60       81.3             1.2   \n",
       "1          F   40         160          60       81.0             0.8   \n",
       "2          M   55         170          60       80.0             0.8   \n",
       "3          M   40         165          70       88.0             1.5   \n",
       "4          F   40         155          60       86.0             1.0   \n",
       "...      ...  ...         ...         ...        ...             ...   \n",
       "55687      F   40         170          65       75.0             0.9   \n",
       "55688      F   45         160          50       70.0             1.2   \n",
       "55689      F   55         160          50       68.5             1.0   \n",
       "55690      M   60         165          60       78.0             0.8   \n",
       "55691      M   55         160          65       85.0             0.9   \n",
       "\n",
       "       eyesight(right)  hearing(left)  hearing(right)  systolic  ...    LDL  \\\n",
       "0                  1.0            1.0             1.0     114.0  ...  126.0   \n",
       "1                  0.6            1.0             1.0     119.0  ...  127.0   \n",
       "2                  0.8            1.0             1.0     138.0  ...  151.0   \n",
       "3                  1.5            1.0             1.0     100.0  ...  226.0   \n",
       "4                  1.0            1.0             1.0     120.0  ...  107.0   \n",
       "...                ...            ...             ...       ...  ...    ...   \n",
       "55687              0.9            1.0             1.0     110.0  ...  118.0   \n",
       "55688              1.2            1.0             1.0     101.0  ...   79.0   \n",
       "55689              1.2            1.0             1.0     117.0  ...   63.0   \n",
       "55690              1.0            1.0             1.0     133.0  ...  146.0   \n",
       "55691              0.7            1.0             1.0     124.0  ...  150.0   \n",
       "\n",
       "       hemoglobin  Urine protein  serum creatinine   AST   ALT   Gtp  \\\n",
       "0            12.9            1.0               0.7  18.0  19.0  27.0   \n",
       "1            12.7            1.0               0.6  22.0  19.0  18.0   \n",
       "2            15.8            1.0               1.0  21.0  16.0  22.0   \n",
       "3            14.7            1.0               1.0  19.0  26.0  18.0   \n",
       "4            12.5            1.0               0.6  16.0  14.0  22.0   \n",
       "...           ...            ...               ...   ...   ...   ...   \n",
       "55687        12.3            1.0               0.6  14.0   7.0  10.0   \n",
       "55688        14.0            1.0               0.9  20.0  12.0  14.0   \n",
       "55689        12.4            1.0               0.5  17.0  11.0  12.0   \n",
       "55690        14.4            1.0               0.7  20.0  19.0  18.0   \n",
       "55691        15.0            1.0               0.8  26.0  29.0  41.0   \n",
       "\n",
       "       dental caries  tartar  smoking  \n",
       "0                  0       Y        0  \n",
       "1                  0       Y        0  \n",
       "2                  0       N        1  \n",
       "3                  0       Y        0  \n",
       "4                  0       N        0  \n",
       "...              ...     ...      ...  \n",
       "55687              1       Y        0  \n",
       "55688              0       Y        0  \n",
       "55689              0       N        0  \n",
       "55690              0       N        0  \n",
       "55691              0       Y        1  \n",
       "\n",
       "[55692 rows x 25 columns]"
      ]
     },
     "execution_count": 26,
     "metadata": {},
     "output_type": "execute_result"
    }
   ],
   "source": [
    "df=df.drop(columns=['ID','oral'])\n",
    "df             \n",
    "               "
   ]
  },
  {
   "cell_type": "markdown",
   "id": "548e0303-3dbc-48b8-83e1-0558da84772a",
   "metadata": {},
   "source": [
    "**Insight**   \n",
    "Here we drop two columns ID and oral which were both irrelevent columns"
   ]
  },
  {
   "cell_type": "code",
   "execution_count": 28,
   "id": "028d28d6-cd99-4ab6-b354-45ea25be3c7f",
   "metadata": {},
   "outputs": [
    {
     "data": {
      "text/plain": [
       "(55692, 25)"
      ]
     },
     "execution_count": 28,
     "metadata": {},
     "output_type": "execute_result"
    }
   ],
   "source": [
    "df.shape"
   ]
  },
  {
   "cell_type": "markdown",
   "id": "db39b313-eea0-4ce4-9ead-b9eb1cb28a6b",
   "metadata": {},
   "source": [
    "**Insight**\n",
    "\n",
    "Checking the final shape of the dataset . Here we have 55692 rows and 25 columns"
   ]
  },
  {
   "cell_type": "markdown",
   "id": "c4032b21-1520-45c1-9874-dbc3aa3e913f",
   "metadata": {},
   "source": [
    "# Check Unique Values for each variable"
   ]
  },
  {
   "cell_type": "code",
   "execution_count": 30,
   "id": "fc061e47-75e7-4eaa-957d-218d20b46e6a",
   "metadata": {},
   "outputs": [
    {
     "data": {
      "text/plain": [
       "gender                                                            [F, M]\n",
       "age                    [40, 55, 30, 45, 50, 35, 60, 25, 65, 20, 80, 7...\n",
       "height(cm)             [155, 160, 170, 165, 180, 150, 175, 140, 185, ...\n",
       "weight(kg)             [60, 70, 75, 90, 65, 45, 55, 50, 85, 80, 100, ...\n",
       "waist(cm)              [81.3, 81.0, 80.0, 88.0, 86.0, 85.0, 85.5, 96....\n",
       "eyesight(left)         [1.2, 0.8, 1.5, 1.0, 0.7, 0.9, 0.3, 0.2, 0.1, ...\n",
       "eyesight(right)        [1.0, 0.6, 0.8, 1.5, 1.2, 0.7, 0.4, 0.9, 0.3, ...\n",
       "hearing(left)                                                 [1.0, 2.0]\n",
       "hearing(right)                                                [1.0, 2.0]\n",
       "systolic               [114.0, 119.0, 138.0, 100.0, 120.0, 128.0, 116...\n",
       "relaxation             [73.0, 70.0, 86.0, 60.0, 74.0, 76.0, 82.0, 96....\n",
       "fasting blood sugar    [94.0, 130.0, 89.0, 96.0, 80.0, 95.0, 158.0, 8...\n",
       "Cholesterol            [215.0, 192.0, 242.0, 322.0, 184.0, 217.0, 226...\n",
       "triglyceride           [82.0, 115.0, 182.0, 254.0, 74.0, 199.0, 68.0,...\n",
       "HDL                    [73.0, 42.0, 55.0, 45.0, 62.0, 48.0, 34.0, 43....\n",
       "LDL                    [126.0, 127.0, 151.0, 226.0, 107.0, 129.0, 157...\n",
       "hemoglobin             [12.9, 12.7, 15.8, 14.7, 12.5, 16.2, 17.0, 15....\n",
       "Urine protein                             [1.0, 3.0, 2.0, 4.0, 5.0, 6.0]\n",
       "serum creatinine       [0.7, 0.6, 1.0, 1.2, 1.3, 0.8, 1.1, 0.9, 0.5, ...\n",
       "AST                    [18.0, 22.0, 21.0, 19.0, 16.0, 38.0, 31.0, 26....\n",
       "ALT                    [19.0, 16.0, 26.0, 14.0, 27.0, 71.0, 31.0, 24....\n",
       "Gtp                    [27.0, 18.0, 22.0, 33.0, 39.0, 111.0, 14.0, 63...\n",
       "dental caries                                                     [0, 1]\n",
       "tartar                                                            [Y, N]\n",
       "smoking                                                           [0, 1]\n",
       "dtype: object"
      ]
     },
     "execution_count": 30,
     "metadata": {},
     "output_type": "execute_result"
    }
   ],
   "source": [
    "# Check Unique Values for each variable.\n",
    "pd.Series({col:df[col].unique() for col in df}) # creating a series consisting every column name of the dataset and it's value.\n",
    "                                                 # used for loop to iterate over every column in the dataset"
   ]
  },
  {
   "cell_type": "markdown",
   "id": "17978c32-bb00-4124-a4c3-2cfd6d3d91d0",
   "metadata": {},
   "source": [
    "**Insight**   \n",
    "Here we checked all unique values from our dataframe"
   ]
  },
  {
   "cell_type": "code",
   "execution_count": 32,
   "id": "7f77c471-864b-4a61-8018-5d16de9648f2",
   "metadata": {},
   "outputs": [
    {
     "data": {
      "text/html": [
       "<div>\n",
       "<style scoped>\n",
       "    .dataframe tbody tr th:only-of-type {\n",
       "        vertical-align: middle;\n",
       "    }\n",
       "\n",
       "    .dataframe tbody tr th {\n",
       "        vertical-align: top;\n",
       "    }\n",
       "\n",
       "    .dataframe thead th {\n",
       "        text-align: right;\n",
       "    }\n",
       "</style>\n",
       "<table border=\"1\" class=\"dataframe\">\n",
       "  <thead>\n",
       "    <tr style=\"text-align: right;\">\n",
       "      <th></th>\n",
       "      <th>age</th>\n",
       "      <th>height(cm)</th>\n",
       "      <th>weight(kg)</th>\n",
       "      <th>waist(cm)</th>\n",
       "      <th>eyesight(left)</th>\n",
       "      <th>eyesight(right)</th>\n",
       "      <th>hearing(left)</th>\n",
       "      <th>hearing(right)</th>\n",
       "      <th>systolic</th>\n",
       "      <th>relaxation</th>\n",
       "      <th>...</th>\n",
       "      <th>HDL</th>\n",
       "      <th>LDL</th>\n",
       "      <th>hemoglobin</th>\n",
       "      <th>Urine protein</th>\n",
       "      <th>serum creatinine</th>\n",
       "      <th>AST</th>\n",
       "      <th>ALT</th>\n",
       "      <th>Gtp</th>\n",
       "      <th>dental caries</th>\n",
       "      <th>smoking</th>\n",
       "    </tr>\n",
       "  </thead>\n",
       "  <tbody>\n",
       "    <tr>\n",
       "      <th>count</th>\n",
       "      <td>55692.000000</td>\n",
       "      <td>55692.000000</td>\n",
       "      <td>55692.000000</td>\n",
       "      <td>55692.000000</td>\n",
       "      <td>55692.000000</td>\n",
       "      <td>55692.000000</td>\n",
       "      <td>55692.000000</td>\n",
       "      <td>55692.000000</td>\n",
       "      <td>55692.000000</td>\n",
       "      <td>55692.000000</td>\n",
       "      <td>...</td>\n",
       "      <td>55692.000000</td>\n",
       "      <td>55692.000000</td>\n",
       "      <td>55692.000000</td>\n",
       "      <td>55692.000000</td>\n",
       "      <td>55692.000000</td>\n",
       "      <td>55692.000000</td>\n",
       "      <td>55692.000000</td>\n",
       "      <td>55692.000000</td>\n",
       "      <td>55692.000000</td>\n",
       "      <td>55692.000000</td>\n",
       "    </tr>\n",
       "    <tr>\n",
       "      <th>mean</th>\n",
       "      <td>44.182917</td>\n",
       "      <td>164.649321</td>\n",
       "      <td>65.864936</td>\n",
       "      <td>82.046418</td>\n",
       "      <td>1.012623</td>\n",
       "      <td>1.007443</td>\n",
       "      <td>1.025587</td>\n",
       "      <td>1.026144</td>\n",
       "      <td>121.494218</td>\n",
       "      <td>76.004830</td>\n",
       "      <td>...</td>\n",
       "      <td>57.290347</td>\n",
       "      <td>114.964501</td>\n",
       "      <td>14.622592</td>\n",
       "      <td>1.087212</td>\n",
       "      <td>0.885738</td>\n",
       "      <td>26.182935</td>\n",
       "      <td>27.036037</td>\n",
       "      <td>39.952201</td>\n",
       "      <td>0.213334</td>\n",
       "      <td>0.367288</td>\n",
       "    </tr>\n",
       "    <tr>\n",
       "      <th>std</th>\n",
       "      <td>12.071418</td>\n",
       "      <td>9.194597</td>\n",
       "      <td>12.820306</td>\n",
       "      <td>9.274223</td>\n",
       "      <td>0.486873</td>\n",
       "      <td>0.485964</td>\n",
       "      <td>0.157902</td>\n",
       "      <td>0.159564</td>\n",
       "      <td>13.675989</td>\n",
       "      <td>9.679278</td>\n",
       "      <td>...</td>\n",
       "      <td>14.738963</td>\n",
       "      <td>40.926476</td>\n",
       "      <td>1.564498</td>\n",
       "      <td>0.404882</td>\n",
       "      <td>0.221524</td>\n",
       "      <td>19.355460</td>\n",
       "      <td>30.947853</td>\n",
       "      <td>50.290539</td>\n",
       "      <td>0.409665</td>\n",
       "      <td>0.482070</td>\n",
       "    </tr>\n",
       "    <tr>\n",
       "      <th>min</th>\n",
       "      <td>20.000000</td>\n",
       "      <td>130.000000</td>\n",
       "      <td>30.000000</td>\n",
       "      <td>51.000000</td>\n",
       "      <td>0.100000</td>\n",
       "      <td>0.100000</td>\n",
       "      <td>1.000000</td>\n",
       "      <td>1.000000</td>\n",
       "      <td>71.000000</td>\n",
       "      <td>40.000000</td>\n",
       "      <td>...</td>\n",
       "      <td>4.000000</td>\n",
       "      <td>1.000000</td>\n",
       "      <td>4.900000</td>\n",
       "      <td>1.000000</td>\n",
       "      <td>0.100000</td>\n",
       "      <td>6.000000</td>\n",
       "      <td>1.000000</td>\n",
       "      <td>1.000000</td>\n",
       "      <td>0.000000</td>\n",
       "      <td>0.000000</td>\n",
       "    </tr>\n",
       "    <tr>\n",
       "      <th>25%</th>\n",
       "      <td>40.000000</td>\n",
       "      <td>160.000000</td>\n",
       "      <td>55.000000</td>\n",
       "      <td>76.000000</td>\n",
       "      <td>0.800000</td>\n",
       "      <td>0.800000</td>\n",
       "      <td>1.000000</td>\n",
       "      <td>1.000000</td>\n",
       "      <td>112.000000</td>\n",
       "      <td>70.000000</td>\n",
       "      <td>...</td>\n",
       "      <td>47.000000</td>\n",
       "      <td>92.000000</td>\n",
       "      <td>13.600000</td>\n",
       "      <td>1.000000</td>\n",
       "      <td>0.800000</td>\n",
       "      <td>19.000000</td>\n",
       "      <td>15.000000</td>\n",
       "      <td>17.000000</td>\n",
       "      <td>0.000000</td>\n",
       "      <td>0.000000</td>\n",
       "    </tr>\n",
       "    <tr>\n",
       "      <th>50%</th>\n",
       "      <td>40.000000</td>\n",
       "      <td>165.000000</td>\n",
       "      <td>65.000000</td>\n",
       "      <td>82.000000</td>\n",
       "      <td>1.000000</td>\n",
       "      <td>1.000000</td>\n",
       "      <td>1.000000</td>\n",
       "      <td>1.000000</td>\n",
       "      <td>120.000000</td>\n",
       "      <td>76.000000</td>\n",
       "      <td>...</td>\n",
       "      <td>55.000000</td>\n",
       "      <td>113.000000</td>\n",
       "      <td>14.800000</td>\n",
       "      <td>1.000000</td>\n",
       "      <td>0.900000</td>\n",
       "      <td>23.000000</td>\n",
       "      <td>21.000000</td>\n",
       "      <td>25.000000</td>\n",
       "      <td>0.000000</td>\n",
       "      <td>0.000000</td>\n",
       "    </tr>\n",
       "    <tr>\n",
       "      <th>75%</th>\n",
       "      <td>55.000000</td>\n",
       "      <td>170.000000</td>\n",
       "      <td>75.000000</td>\n",
       "      <td>88.000000</td>\n",
       "      <td>1.200000</td>\n",
       "      <td>1.200000</td>\n",
       "      <td>1.000000</td>\n",
       "      <td>1.000000</td>\n",
       "      <td>130.000000</td>\n",
       "      <td>82.000000</td>\n",
       "      <td>...</td>\n",
       "      <td>66.000000</td>\n",
       "      <td>136.000000</td>\n",
       "      <td>15.800000</td>\n",
       "      <td>1.000000</td>\n",
       "      <td>1.000000</td>\n",
       "      <td>28.000000</td>\n",
       "      <td>31.000000</td>\n",
       "      <td>43.000000</td>\n",
       "      <td>0.000000</td>\n",
       "      <td>1.000000</td>\n",
       "    </tr>\n",
       "    <tr>\n",
       "      <th>max</th>\n",
       "      <td>85.000000</td>\n",
       "      <td>190.000000</td>\n",
       "      <td>135.000000</td>\n",
       "      <td>129.000000</td>\n",
       "      <td>9.900000</td>\n",
       "      <td>9.900000</td>\n",
       "      <td>2.000000</td>\n",
       "      <td>2.000000</td>\n",
       "      <td>240.000000</td>\n",
       "      <td>146.000000</td>\n",
       "      <td>...</td>\n",
       "      <td>618.000000</td>\n",
       "      <td>1860.000000</td>\n",
       "      <td>21.100000</td>\n",
       "      <td>6.000000</td>\n",
       "      <td>11.600000</td>\n",
       "      <td>1311.000000</td>\n",
       "      <td>2914.000000</td>\n",
       "      <td>999.000000</td>\n",
       "      <td>1.000000</td>\n",
       "      <td>1.000000</td>\n",
       "    </tr>\n",
       "  </tbody>\n",
       "</table>\n",
       "<p>8 rows × 23 columns</p>\n",
       "</div>"
      ],
      "text/plain": [
       "                age    height(cm)    weight(kg)     waist(cm)  eyesight(left)  \\\n",
       "count  55692.000000  55692.000000  55692.000000  55692.000000    55692.000000   \n",
       "mean      44.182917    164.649321     65.864936     82.046418        1.012623   \n",
       "std       12.071418      9.194597     12.820306      9.274223        0.486873   \n",
       "min       20.000000    130.000000     30.000000     51.000000        0.100000   \n",
       "25%       40.000000    160.000000     55.000000     76.000000        0.800000   \n",
       "50%       40.000000    165.000000     65.000000     82.000000        1.000000   \n",
       "75%       55.000000    170.000000     75.000000     88.000000        1.200000   \n",
       "max       85.000000    190.000000    135.000000    129.000000        9.900000   \n",
       "\n",
       "       eyesight(right)  hearing(left)  hearing(right)      systolic  \\\n",
       "count     55692.000000   55692.000000    55692.000000  55692.000000   \n",
       "mean          1.007443       1.025587        1.026144    121.494218   \n",
       "std           0.485964       0.157902        0.159564     13.675989   \n",
       "min           0.100000       1.000000        1.000000     71.000000   \n",
       "25%           0.800000       1.000000        1.000000    112.000000   \n",
       "50%           1.000000       1.000000        1.000000    120.000000   \n",
       "75%           1.200000       1.000000        1.000000    130.000000   \n",
       "max           9.900000       2.000000        2.000000    240.000000   \n",
       "\n",
       "         relaxation  ...           HDL           LDL    hemoglobin  \\\n",
       "count  55692.000000  ...  55692.000000  55692.000000  55692.000000   \n",
       "mean      76.004830  ...     57.290347    114.964501     14.622592   \n",
       "std        9.679278  ...     14.738963     40.926476      1.564498   \n",
       "min       40.000000  ...      4.000000      1.000000      4.900000   \n",
       "25%       70.000000  ...     47.000000     92.000000     13.600000   \n",
       "50%       76.000000  ...     55.000000    113.000000     14.800000   \n",
       "75%       82.000000  ...     66.000000    136.000000     15.800000   \n",
       "max      146.000000  ...    618.000000   1860.000000     21.100000   \n",
       "\n",
       "       Urine protein  serum creatinine           AST           ALT  \\\n",
       "count   55692.000000      55692.000000  55692.000000  55692.000000   \n",
       "mean        1.087212          0.885738     26.182935     27.036037   \n",
       "std         0.404882          0.221524     19.355460     30.947853   \n",
       "min         1.000000          0.100000      6.000000      1.000000   \n",
       "25%         1.000000          0.800000     19.000000     15.000000   \n",
       "50%         1.000000          0.900000     23.000000     21.000000   \n",
       "75%         1.000000          1.000000     28.000000     31.000000   \n",
       "max         6.000000         11.600000   1311.000000   2914.000000   \n",
       "\n",
       "                Gtp  dental caries       smoking  \n",
       "count  55692.000000   55692.000000  55692.000000  \n",
       "mean      39.952201       0.213334      0.367288  \n",
       "std       50.290539       0.409665      0.482070  \n",
       "min        1.000000       0.000000      0.000000  \n",
       "25%       17.000000       0.000000      0.000000  \n",
       "50%       25.000000       0.000000      0.000000  \n",
       "75%       43.000000       0.000000      1.000000  \n",
       "max      999.000000       1.000000      1.000000  \n",
       "\n",
       "[8 rows x 23 columns]"
      ]
     },
     "execution_count": 32,
     "metadata": {},
     "output_type": "execute_result"
    }
   ],
   "source": [
    "# Gives the overall info of the dataframe object\n",
    "df.describe()"
   ]
  },
  {
   "cell_type": "markdown",
   "id": "60945160-d802-421d-b3fd-045d75d6db4c",
   "metadata": {},
   "source": [
    "for understanding stastical summary we will take hemoglobin column\n",
    "\n",
    "1. The count is 55692.\n",
    "\n",
    "2. The mean rating is 14.62 .\n",
    "\n",
    "3. The standard deviation rating of the rating is 1.56.\n",
    "\n",
    "4. The min ratings is 4.90.\n",
    "\n",
    "5. The 25th percentile of the ratings is 13.60.\n",
    "\n",
    "6. The 50th percentile of the ratings is 14.80.\n",
    "\n",
    "7. The 75th percentile of the ratings is 15.80.\n",
    "\n",
    "8. The maximum rating is 21.10."
   ]
  },
  {
   "cell_type": "markdown",
   "id": "155cdbba-89f0-4b2f-bbd8-db258735dd35",
   "metadata": {},
   "source": [
    "**Insight**      \n",
    "Describe() give the overall information of our dataset object."
   ]
  },
  {
   "cell_type": "markdown",
   "id": "87c7f107-8e8a-46f7-84d3-9867a72575f9",
   "metadata": {},
   "source": [
    "# Data visualisation"
   ]
  },
  {
   "cell_type": "markdown",
   "id": "00a7f137-2f4a-4699-99f6-33b173cc8a2d",
   "metadata": {},
   "source": [
    "# *Chart 1*"
   ]
  },
  {
   "cell_type": "code",
   "execution_count": 34,
   "id": "5235fb00-a3db-45ce-b63d-f5034edd600d",
   "metadata": {},
   "outputs": [
    {
     "data": {
      "text/html": [
       "<div>\n",
       "<style scoped>\n",
       "    .dataframe tbody tr th:only-of-type {\n",
       "        vertical-align: middle;\n",
       "    }\n",
       "\n",
       "    .dataframe tbody tr th {\n",
       "        vertical-align: top;\n",
       "    }\n",
       "\n",
       "    .dataframe thead th {\n",
       "        text-align: right;\n",
       "    }\n",
       "</style>\n",
       "<table border=\"1\" class=\"dataframe\">\n",
       "  <thead>\n",
       "    <tr style=\"text-align: right;\">\n",
       "      <th></th>\n",
       "      <th>Gender</th>\n",
       "      <th>Number of Smokers</th>\n",
       "    </tr>\n",
       "  </thead>\n",
       "  <tbody>\n",
       "    <tr>\n",
       "      <th>0</th>\n",
       "      <td>Male</td>\n",
       "      <td>19596</td>\n",
       "    </tr>\n",
       "    <tr>\n",
       "      <th>1</th>\n",
       "      <td>Female</td>\n",
       "      <td>859</td>\n",
       "    </tr>\n",
       "    <tr>\n",
       "      <th>2</th>\n",
       "      <td>Total</td>\n",
       "      <td>20455</td>\n",
       "    </tr>\n",
       "  </tbody>\n",
       "</table>\n",
       "</div>"
      ],
      "text/plain": [
       "   Gender  Number of Smokers\n",
       "0    Male              19596\n",
       "1  Female                859\n",
       "2   Total              20455"
      ]
     },
     "metadata": {},
     "output_type": "display_data"
    },
    {
     "name": "stderr",
     "output_type": "stream",
     "text": [
      "/var/folders/d3/tc4wph_x5qjcpvz2ldtxd2jm0000gn/T/ipykernel_97421/4164454969.py:12: FutureWarning: \n",
      "\n",
      "Passing `palette` without assigning `hue` is deprecated and will be removed in v0.14.0. Assign the `x` variable to `hue` and set `legend=False` for the same effect.\n",
      "\n",
      "  sns.barplot(x='Gender', y='Number of Smokers', data=smoker_counts, palette='coolwarm')  # Only Male and Female\n",
      "No artists with labels found to put in legend.  Note that artists whose label start with an underscore are ignored when legend() is called with no argument.\n"
     ]
    },
    {
     "data": {
      "image/png": "[encoded data removed]",
      "text/plain": [
       "<Figure size 500x600 with 1 Axes>"
      ]
     },
     "metadata": {},
     "output_type": "display_data"
    }
   ],
   "source": [
    "male_smokers = len(df[(df['gender'] == 'M') & (df['smoking'] == 1)])\n",
    "female_smokers = len(df[(df['gender'] == 'F') & (df['smoking'] == 1)])\n",
    "smoker_counts = pd.DataFrame({\n",
    "    'Gender': ['Male', 'Female'],\n",
    "    'Number of Smokers': [male_smokers, female_smokers]\n",
    "})\n",
    "total_smokers = male_smokers + female_smokers\n",
    "total_counts = pd.DataFrame({'Gender': ['Total'], 'Number of Smokers': [total_smokers]})\n",
    "full_smoker_counts = pd.concat([smoker_counts, total_counts], ignore_index=True)\n",
    "display(full_smoker_counts)\n",
    "plt.figure(figsize=(5, 6))\n",
    "sns.barplot(x='Gender', y='Number of Smokers', data=smoker_counts, palette='coolwarm')  # Only Male and Female\n",
    "plt.title('Number of Smokers by Gender')\n",
    "plt.xlabel('Gender')\n",
    "plt.ylabel('Number of Smokers')\n",
    "plt.legend(title=\"Gender\", loc='best')\n",
    "plt.show()"
   ]
  },
  {
   "cell_type": "markdown",
   "id": "eb66de66-1874-47d5-952b-7c615c41af39",
   "metadata": {},
   "source": [
    "**Insight of chart 1**\n",
    "\n",
    "Here we can see that the most number of the smokers are men as compared to women . \n",
    "The data shows the number of male smokers are 19596 and number of female smokers are 859"
   ]
  },
  {
   "cell_type": "markdown",
   "id": "f0bbbb93-0552-4634-b264-d3a2d412164e",
   "metadata": {},
   "source": [
    "# *Chart 2*"
   ]
  },
  {
   "cell_type": "code",
   "execution_count": 36,
   "id": "3ebfad06-3c10-47a6-832f-c385b26d779b",
   "metadata": {},
   "outputs": [
    {
     "data": {
      "text/html": [
       "<div>\n",
       "<style scoped>\n",
       "    .dataframe tbody tr th:only-of-type {\n",
       "        vertical-align: middle;\n",
       "    }\n",
       "\n",
       "    .dataframe tbody tr th {\n",
       "        vertical-align: top;\n",
       "    }\n",
       "\n",
       "    .dataframe thead th {\n",
       "        text-align: right;\n",
       "    }\n",
       "</style>\n",
       "<table border=\"1\" class=\"dataframe\">\n",
       "  <thead>\n",
       "    <tr style=\"text-align: right;\">\n",
       "      <th></th>\n",
       "      <th>Gender</th>\n",
       "      <th>Number of Non-Smokers</th>\n",
       "    </tr>\n",
       "  </thead>\n",
       "  <tbody>\n",
       "    <tr>\n",
       "      <th>0</th>\n",
       "      <td>Male</td>\n",
       "      <td>15805</td>\n",
       "    </tr>\n",
       "    <tr>\n",
       "      <th>1</th>\n",
       "      <td>Female</td>\n",
       "      <td>19432</td>\n",
       "    </tr>\n",
       "    <tr>\n",
       "      <th>2</th>\n",
       "      <td>Total</td>\n",
       "      <td>35237</td>\n",
       "    </tr>\n",
       "  </tbody>\n",
       "</table>\n",
       "</div>"
      ],
      "text/plain": [
       "   Gender  Number of Non-Smokers\n",
       "0    Male                  15805\n",
       "1  Female                  19432\n",
       "2   Total                  35237"
      ]
     },
     "metadata": {},
     "output_type": "display_data"
    },
    {
     "name": "stderr",
     "output_type": "stream",
     "text": [
      "/var/folders/d3/tc4wph_x5qjcpvz2ldtxd2jm0000gn/T/ipykernel_97421/3209659582.py:14: FutureWarning: \n",
      "\n",
      "Passing `palette` without assigning `hue` is deprecated and will be removed in v0.14.0. Assign the `x` variable to `hue` and set `legend=False` for the same effect.\n",
      "\n",
      "  sns.barplot(x='Gender', y='Number of Non-Smokers', data=non_smoker_counts[non_smoker_counts['Gender'] != 'Total'], palette='coolwarm')\n",
      "No artists with labels found to put in legend.  Note that artists whose label start with an underscore are ignored when legend() is called with no argument.\n"
     ]
    },
    {
     "data": {
      "image/png": "[encoded data removed]",
      "text/plain": [
       "<Figure size 500x600 with 1 Axes>"
      ]
     },
     "metadata": {},
     "output_type": "display_data"
    }
   ],
   "source": [
    "male_non_smokers = len(df[(df['gender'] == 'M') & (df['smoking'] == 0)])\n",
    "female_non_smokers = len(df[(df['gender'] == 'F') & (df['smoking'] == 0)])\n",
    "total_non_smokers = male_non_smokers + female_non_smokers  # Calculate total non-smokers\n",
    "# Create a DataFrame to summarize non-smoker counts\n",
    "non_smoker_counts = pd.DataFrame({\n",
    "    'Gender': ['Male', 'Female', 'Total'],\n",
    "    'Number of Non-Smokers': [male_non_smokers, female_non_smokers, total_non_smokers]\n",
    "})\n",
    "# Display the DataFrame\n",
    "display(non_smoker_counts)\n",
    "\n",
    "# Plotting the bar chart (excluding Total)\n",
    "plt.figure(figsize=(5, 6))\n",
    "sns.barplot(x='Gender', y='Number of Non-Smokers', data=non_smoker_counts[non_smoker_counts['Gender'] != 'Total'], palette='coolwarm')\n",
    "plt.title('Number of Non-Smokers by Gender')\n",
    "plt.xlabel('Gender')\n",
    "plt.ylabel('Number of Non-Smokers')\n",
    "plt.legend(title=\"Gender\", loc='best')\n",
    "plt.show()\n"
   ]
  },
  {
   "cell_type": "markdown",
   "id": "c505a346-58d5-4bca-badc-46c4765e26f8",
   "metadata": {},
   "source": [
    "**Insight of chart 2**\n",
    "\n",
    "Here we can see that the most number of the Non-smokers are Women as compared to Men . \n",
    "The data shows the number of male Non-smokers are 15805 and number of female Non-smokers are 19432\n"
   ]
  },
  {
   "cell_type": "markdown",
   "id": "5acef4aa-8a79-431a-93b5-5bbc5b0d52d3",
   "metadata": {},
   "source": [
    "# *Chart 3*"
   ]
  },
  {
   "cell_type": "code",
   "execution_count": 38,
   "id": "f937274d-17c9-45a5-bb8f-b37eeae0beb3",
   "metadata": {},
   "outputs": [
    {
     "data": {
      "text/html": [
       "<div>\n",
       "<style scoped>\n",
       "    .dataframe tbody tr th:only-of-type {\n",
       "        vertical-align: middle;\n",
       "    }\n",
       "\n",
       "    .dataframe tbody tr th {\n",
       "        vertical-align: top;\n",
       "    }\n",
       "\n",
       "    .dataframe thead th {\n",
       "        text-align: right;\n",
       "    }\n",
       "</style>\n",
       "<table border=\"1\" class=\"dataframe\">\n",
       "  <thead>\n",
       "    <tr style=\"text-align: right;\">\n",
       "      <th></th>\n",
       "      <th>Gender</th>\n",
       "      <th>Smokers</th>\n",
       "      <th>Non-Smokers</th>\n",
       "      <th>Total</th>\n",
       "    </tr>\n",
       "  </thead>\n",
       "  <tbody>\n",
       "    <tr>\n",
       "      <th>0</th>\n",
       "      <td>Male</td>\n",
       "      <td>19596</td>\n",
       "      <td>15805</td>\n",
       "      <td>35401</td>\n",
       "    </tr>\n",
       "    <tr>\n",
       "      <th>1</th>\n",
       "      <td>Female</td>\n",
       "      <td>859</td>\n",
       "      <td>19432</td>\n",
       "      <td>20291</td>\n",
       "    </tr>\n",
       "  </tbody>\n",
       "</table>\n",
       "</div>"
      ],
      "text/plain": [
       "   Gender  Smokers  Non-Smokers  Total\n",
       "0    Male    19596        15805  35401\n",
       "1  Female      859        19432  20291"
      ]
     },
     "metadata": {},
     "output_type": "display_data"
    },
    {
     "data": {
      "image/png": "[encoded data removed]",
      "text/plain": [
       "<Figure size 800x600 with 1 Axes>"
      ]
     },
     "metadata": {},
     "output_type": "display_data"
    }
   ],
   "source": [
    "male_smokers = len(df[(df['gender'] == 'M') & (df['smoking'] == 1)])\n",
    "female_smokers = len(df[(df['gender'] == 'F') & (df['smoking'] == 1)])\n",
    "male_non_smokers = len(df[(df['gender'] == 'M') & (df['smoking'] == 0)])\n",
    "female_non_smokers = len(df[(df['gender'] == 'F') & (df['smoking'] == 0)])\n",
    "smoker_counts_table = pd.DataFrame({\n",
    "    'Gender': ['Male', 'Female'],\n",
    "    'Smokers': [male_smokers, female_smokers],\n",
    "    'Non-Smokers': [male_non_smokers, female_non_smokers],\n",
    "})\n",
    "smoker_counts_table['Total'] = smoker_counts_table['Smokers'] + smoker_counts_table['Non-Smokers']\n",
    "display(smoker_counts_table[['Gender', 'Smokers', 'Non-Smokers', 'Total']])\n",
    "smoker_counts_melted = smoker_counts_table.melt(id_vars='Gender', value_vars=['Smokers', 'Non-Smokers'],var_name='Smoking Status', value_name='Count')\n",
    "plt.figure(figsize=(8, 6))\n",
    "sns.barplot(x='Gender', y='Count', hue='Smoking Status',data=smoker_counts_melted, palette='coolwarm')\n",
    "plt.title('Number of Smokers and Non-Smokers by Gender')\n",
    "plt.xlabel('Gender')\n",
    "plt.ylabel('Count')\n",
    "plt.legend(title=\"Smoking Status\", loc='best')\n",
    "plt.show()\n",
    "\n"
   ]
  },
  {
   "cell_type": "markdown",
   "id": "bd60f446-f03e-411e-9457-f5d3f597c982",
   "metadata": {},
   "source": [
    "**Insight of chart 3**\n",
    "\n",
    "Here we can see that the count of smokers and Non smokers in both male and female\n",
    "\n",
    "Here out of 35401 men , 19596 are smokers and 15805 are non smokers\n",
    "\n",
    "Here out of 20291 women , 859 are smokers and 19432 are non smokers\n"
   ]
  },
  {
   "cell_type": "markdown",
   "id": "2d9ae30e-1776-45de-8907-fa1bef8aa331",
   "metadata": {},
   "source": [
    "# *Chart 4*"
   ]
  },
  {
   "cell_type": "code",
   "execution_count": 40,
   "id": "c2393077-1dd8-49c8-8575-34236ff43005",
   "metadata": {},
   "outputs": [
    {
     "data": {
      "image/png": "[encoded data removed]",
      "text/plain": [
       "<Figure size 1000x500 with 1 Axes>"
      ]
     },
     "metadata": {},
     "output_type": "display_data"
    }
   ],
   "source": [
    "df['smoking_label'] = df['smoking'].map({0: 'Non-Smoker', 1: 'Smoker'})\n",
    "plt.figure(figsize=(10, 5))\n",
    "colors = ['lightblue', 'lightcoral']\n",
    "df['smoking_label'].value_counts().plot.pie(autopct='%1.1f%%', colors=colors,startangle=90)\n",
    "plt.title('Percentage of Smokers and Non-Smokers')\n",
    "plt.show()"
   ]
  },
  {
   "cell_type": "markdown",
   "id": "2b908a96-8c94-4033-837a-d992215886cd",
   "metadata": {},
   "source": [
    "**Insight of chart 4**\n",
    "\n",
    "Here we can see the percentage of the somkers and non smokers with the help of pie chart . \n",
    "There are 36.7 percent of the people who are smoking ciggarette and 63.3 percent who dont."
   ]
  },
  {
   "cell_type": "code",
   "execution_count": 42,
   "id": "91d8a9de-467c-44a4-80d4-9869c212080f",
   "metadata": {},
   "outputs": [
    {
     "data": {
      "text/plain": [
       "Index(['gender', 'age', 'height(cm)', 'weight(kg)', 'waist(cm)',\n",
       "       'eyesight(left)', 'eyesight(right)', 'hearing(left)', 'hearing(right)',\n",
       "       'systolic', 'relaxation', 'fasting blood sugar', 'Cholesterol',\n",
       "       'triglyceride', 'HDL', 'LDL', 'hemoglobin', 'Urine protein',\n",
       "       'serum creatinine', 'AST', 'ALT', 'Gtp', 'dental caries', 'tartar',\n",
       "       'smoking'],\n",
       "      dtype='object')"
      ]
     },
     "execution_count": 42,
     "metadata": {},
     "output_type": "execute_result"
    }
   ],
   "source": [
    "df=df.drop(columns=['smoking_label'])\n",
    "df.columns"
   ]
  },
  {
   "cell_type": "markdown",
   "id": "e802e752-16f5-4593-b8b1-85647c30f45e",
   "metadata": {},
   "source": [
    "**Insight**\n",
    "\n",
    "dropping an extra column after visualisation"
   ]
  },
  {
   "cell_type": "markdown",
   "id": "e63a8807-9063-4f09-b362-d7d99cb4001b",
   "metadata": {},
   "source": [
    "# *Chart 5*"
   ]
  },
  {
   "cell_type": "code",
   "execution_count": 44,
   "id": "eb7f08f7-ddfa-4ac6-bbe3-27041edb49ec",
   "metadata": {},
   "outputs": [
    {
     "data": {
      "image/png": "[encoded data removed]",
      "text/plain": [
       "<Figure size 900x600 with 1 Axes>"
      ]
     },
     "metadata": {},
     "output_type": "display_data"
    }
   ],
   "source": [
    "plt.figure(figsize=(9,6))\n",
    "sns.histplot(x=df[\"age\"])\n",
    "plt.title('Age Distribution of Smokers')\n",
    "plt.xlabel('Age')\n",
    "plt.ylabel('Number of Smokers')\n",
    "plt.show()"
   ]
  },
  {
   "cell_type": "markdown",
   "id": "550b27ac-7982-42f4-ab17-98d311849c1d",
   "metadata": {},
   "source": [
    "**Insight of chart `5**\n",
    "\n",
    "Most number of smokers are having the age 40"
   ]
  },
  {
   "cell_type": "markdown",
   "id": "c23dc197-7d42-41ba-9a0c-9ea920b5aa4f",
   "metadata": {},
   "source": [
    "# *Chart 6*"
   ]
  },
  {
   "cell_type": "code",
   "execution_count": 46,
   "id": "d442f4a4-21e0-4a09-9afb-1e74ef39543f",
   "metadata": {
    "scrolled": true
   },
   "outputs": [
    {
     "data": {
      "image/png": "[encoded data removed]",
      "text/plain": [
       "<Figure size 640x480 with 1 Axes>"
      ]
     },
     "metadata": {},
     "output_type": "display_data"
    },
    {
     "data": {
      "image/png": "[encoded data removed]",
      "text/plain": [
       "<Figure size 640x480 with 1 Axes>"
      ]
     },
     "metadata": {},
     "output_type": "display_data"
    },
    {
     "data": {
      "image/png": "[encoded data removed]",
      "text/plain": [
       "<Figure size 640x480 with 1 Axes>"
      ]
     },
     "metadata": {},
     "output_type": "display_data"
    },
    {
     "data": {
      "image/png": "[encoded data removed]",
      "text/plain": [
       "<Figure size 640x480 with 1 Axes>"
      ]
     },
     "metadata": {},
     "output_type": "display_data"
    },
    {
     "data": {
      "image/png": "[encoded data removed]",
      "text/plain": [
       "<Figure size 640x480 with 1 Axes>"
      ]
     },
     "metadata": {},
     "output_type": "display_data"
    },
    {
     "data": {
      "image/png": "[encoded data removed]",
      "text/plain": [
       "<Figure size 640x480 with 1 Axes>"
      ]
     },
     "metadata": {},
     "output_type": "display_data"
    },
    {
     "data": {
      "image/png": "[encoded data removed]",
      "text/plain": [
       "<Figure size 640x480 with 1 Axes>"
      ]
     },
     "metadata": {},
     "output_type": "display_data"
    },
    {
     "data": {
      "image/png": "[encoded data removed]",
      "text/plain": [
       "<Figure size 640x480 with 1 Axes>"
      ]
     },
     "metadata": {},
     "output_type": "display_data"
    },
    {
     "data": {
      "image/png": "[encoded data removed]",
      "text/plain": [
       "<Figure size 640x480 with 1 Axes>"
      ]
     },
     "metadata": {},
     "output_type": "display_data"
    },
    {
     "data": {
      "image/png": "[encoded data removed]",
      "text/plain": [
       "<Figure size 640x480 with 1 Axes>"
      ]
     },
     "metadata": {},
     "output_type": "display_data"
    },
    {
     "data": {
      "image/png": "[encoded data removed]",
      "text/plain": [
       "<Figure size 640x480 with 1 Axes>"
      ]
     },
     "metadata": {},
     "output_type": "display_data"
    },
    {
     "data": {
      "image/png": "[encoded data removed]",
      "text/plain": [
       "<Figure size 640x480 with 1 Axes>"
      ]
     },
     "metadata": {},
     "output_type": "display_data"
    },
    {
     "data": {
      "image/png": "[encoded data removed]",
      "text/plain": [
       "<Figure size 640x480 with 1 Axes>"
      ]
     },
     "metadata": {},
     "output_type": "display_data"
    },
    {
     "data": {
      "image/png": "[encoded data removed]",
      "text/plain": [
       "<Figure size 640x480 with 1 Axes>"
      ]
     },
     "metadata": {},
     "output_type": "display_data"
    },
    {
     "data": {
      "image/png": "[encoded data removed]",
      "text/plain": [
       "<Figure size 640x480 with 1 Axes>"
      ]
     },
     "metadata": {},
     "output_type": "display_data"
    },
    {
     "data": {
      "image/png": "[encoded data removed]",
      "text/plain": [
       "<Figure size 640x480 with 1 Axes>"
      ]
     },
     "metadata": {},
     "output_type": "display_data"
    },
    {
     "data": {
      "image/png": "[encoded data removed]",
      "text/plain": [
       "<Figure size 640x480 with 1 Axes>"
      ]
     },
     "metadata": {},
     "output_type": "display_data"
    },
    {
     "data": {
      "image/png": "[encoded data removed]",
      "text/plain": [
       "<Figure size 640x480 with 1 Axes>"
      ]
     },
     "metadata": {},
     "output_type": "display_data"
    },
    {
     "data": {
      "image/png": "[encoded data removed]",
      "text/plain": [
       "<Figure size 640x480 with 1 Axes>"
      ]
     },
     "metadata": {},
     "output_type": "display_data"
    },
    {
     "data": {
      "image/png": "[encoded data removed]",
      "text/plain": [
       "<Figure size 640x480 with 1 Axes>"
      ]
     },
     "metadata": {},
     "output_type": "display_data"
    },
    {
     "data": {
      "image/png": "[encoded data removed]",
      "text/plain": [
       "<Figure size 640x480 with 1 Axes>"
      ]
     },
     "metadata": {},
     "output_type": "display_data"
    },
    {
     "data": {
      "image/png": "[encoded data removed]",
      "text/plain": [
       "<Figure size 640x480 with 1 Axes>"
      ]
     },
     "metadata": {},
     "output_type": "display_data"
    },
    {
     "data": {
      "image/png": "[encoded data removed]",
      "text/plain": [
       "<Figure size 640x480 with 1 Axes>"
      ]
     },
     "metadata": {},
     "output_type": "display_data"
    }
   ],
   "source": [
    "# Loop through each column in the DataFrame\n",
    "for i in df.columns:\n",
    "    if df[i].dtypes == 'int64' or df[i].dtypes == 'float64':\n",
    "        sns.boxplot(x=df[i])\n",
    "        plt.show()\n"
   ]
  },
  {
   "cell_type": "markdown",
   "id": "c1555561-f3df-4e6d-8670-a0a676f11fee",
   "metadata": {},
   "source": [
    "**Insight of chart 6**\n",
    "\n",
    "Representation of columns using boxplot to detect outliers. Here outliers represent natural\r\n",
    "variations in the population, and they should be left as is in the dataset. These are called true\r\n",
    "outliers. Therefore for this dataset we will not remove outliers."
   ]
  },
  {
   "cell_type": "markdown",
   "id": "3c5e1bf8-fdec-4ae0-8b0a-d1e67fd14851",
   "metadata": {},
   "source": [
    "# *Chart 7*"
   ]
  },
  {
   "cell_type": "code",
   "execution_count": 56,
   "id": "f74801bd-f184-48d0-a3b2-29fca8640cd3",
   "metadata": {},
   "outputs": [
    {
     "data": {
      "image/png": "[encoded data removed]",
      "text/plain": [
       "<Figure size 1400x600 with 2 Axes>"
      ]
     },
     "metadata": {},
     "output_type": "display_data"
    }
   ],
   "source": [
    "import matplotlib.pyplot as plt\n",
    "\n",
    "# Create a figure and two subplots (1 row, 2 columns) for side-by-side charts\n",
    "fig, (ax1, ax2) = plt.subplots(1, 2, figsize=(14, 6))  # Adjust figsize for proper spacing\n",
    "\n",
    "# Plotting the relaxation by Age on the first subplot\n",
    "ldl_by_age_relaxation = df.groupby('age')['relaxation'].mean()\n",
    "ax1.plot(ldl_by_age_relaxation.index, ldl_by_age_relaxation.values, marker='o', color='b')\n",
    "ax1.set_xlabel('Age')\n",
    "ax1.set_ylabel('Relaxation')\n",
    "ax1.set_title('Stress by Age')\n",
    "ax1.grid(True)\n",
    "\n",
    "# Plotting the smoking by Age on the second subplot\n",
    "ldl_by_age_smoking = df.groupby('age')['smoking'].mean()\n",
    "ax2.plot(ldl_by_age_smoking.index, ldl_by_age_smoking.values, marker='o', color='b')\n",
    "ax2.set_xlabel('Age')\n",
    "ax2.set_ylabel('Smoking')\n",
    "ax2.set_title('Smoking by Age')\n",
    "ax2.grid(True)\n",
    "\n",
    "# Adjust layout for better spacing\n",
    "plt.tight_layout()\n",
    "\n",
    "# Display the plots\n",
    "plt.show()\n"
   ]
  },
  {
   "cell_type": "markdown",
   "id": "25e4c367-024e-413c-85f2-ae92b16385cb",
   "metadata": {},
   "source": [
    "**Insight of chart 7**\n",
    "\n",
    "These charts show that as stress increases with age, smoking also increases, especially before the age of 40. However, after 40, smoking begins to decrease significantly, as stress levels normalize\r\n"
   ]
  },
  {
   "cell_type": "markdown",
   "id": "dcc5a2c7-f4ee-433f-b239-fa628cb26d9c",
   "metadata": {},
   "source": [
    "# *Chart 8*"
   ]
  },
  {
   "cell_type": "code",
   "execution_count": 58,
   "id": "8d3796c8-0196-4cab-8635-0d6657195358",
   "metadata": {},
   "outputs": [
    {
     "name": "stdout",
     "output_type": "stream",
     "text": [
      "                    gender  height(cm)  weight(kg)  triglyceride  hemoglobin  \\\n",
      "gender            1.000000   -0.741556   -0.574956     -0.241520   -0.702214   \n",
      "height(cm)       -0.741556    1.000000    0.675656      0.156693    0.539367   \n",
      "weight(kg)       -0.574956    0.675656    1.000000      0.324429    0.492970   \n",
      "triglyceride     -0.241520    0.156693    0.324429      1.000000    0.273353   \n",
      "hemoglobin       -0.702214    0.539367    0.492970      0.273353    1.000000   \n",
      "serum creatinine -0.507249    0.383883    0.324808      0.124986    0.371382   \n",
      "Gtp              -0.237270    0.139720    0.209625      0.301876    0.223844   \n",
      "smoking          -0.510340    0.396675    0.302780      0.251799    0.400678   \n",
      "\n",
      "                  serum creatinine       Gtp   smoking  \n",
      "gender                   -0.507249 -0.237270 -0.510340  \n",
      "height(cm)                0.383883  0.139720  0.396675  \n",
      "weight(kg)                0.324808  0.209625  0.302780  \n",
      "triglyceride              0.124986  0.301876  0.251799  \n",
      "hemoglobin                0.371382  0.223844  0.400678  \n",
      "serum creatinine          1.000000  0.102411  0.216812  \n",
      "Gtp                       0.102411  1.000000  0.236619  \n",
      "smoking                   0.216812  0.236619  1.000000  \n"
     ]
    },
    {
     "data": {
      "image/png": "[encoded data removed]",
      "text/plain": [
       "<Figure size 800x600 with 2 Axes>"
      ]
     },
     "metadata": {},
     "output_type": "display_data"
    }
   ],
   "source": [
    "# Assuming you already have the DataFrame 'df'\n",
    "selected_health_metrics = df[['gender', 'height(cm)', 'weight(kg)', 'triglyceride', \n",
    "                              'hemoglobin', 'serum creatinine', 'Gtp', 'smoking']]\n",
    "# Drop rows with any missing values\n",
    "selected_health_metrics = selected_health_metrics.dropna()\n",
    "# Convert gender to numeric: map 'M'/'F' and 'Male'/'Female' to 0 and 1\n",
    "selected_health_metrics['gender'] = selected_health_metrics['gender'].map({'M': 0, 'F': 1})\n",
    "# Calculate the correlation matrix\n",
    "corr_matrix = selected_health_metrics.corr()\n",
    "# Print the correlation matrix\n",
    "print(corr_matrix)\n",
    "# Plot the correlation heatmap\n",
    "plt.figure(figsize=(8, 6))\n",
    "sns.heatmap(corr_matrix, annot=True, cmap='coolwarm', linewidths=0.5)\n",
    "plt.title('Correlation Heatmap of Selected Health Metrics')\n",
    "plt.show()\n"
   ]
  },
  {
   "cell_type": "markdown",
   "id": "cb53fa94-0028-4972-af9e-a820b736d15f",
   "metadata": {},
   "source": [
    "**Insight of chart 8**\n",
    "\n",
    "This heatmap shows the correlation between smoking and other matrices"
   ]
  },
  {
   "cell_type": "markdown",
   "id": "7a4c8b5b-f8c1-474e-8858-f2476759a3ab",
   "metadata": {},
   "source": [
    "# *Chart 9*"
   ]
  },
  {
   "cell_type": "code",
   "execution_count": 60,
   "id": "7c6914b0-47bf-4be2-befa-88dcda119a9a",
   "metadata": {},
   "outputs": [
    {
     "data": {
      "image/png": "[encoded data removed]",
      "text/plain": [
       "<Figure size 1000x600 with 1 Axes>"
      ]
     },
     "metadata": {},
     "output_type": "display_data"
    }
   ],
   "source": [
    "smokers = df[df['smoking'] == 1]  # Filter smokers\n",
    "non_smokers = df[df['smoking'] == 0]  # Filter non-smokers\n",
    "\n",
    "# Create a scatter plot\n",
    "plt.figure(figsize=(10,6))\n",
    "plt.scatter(smokers['height(cm)'], smokers['weight(kg)'], color='r', label='Smokers', alpha=0.5)\n",
    "plt.scatter(non_smokers['height(cm)'], non_smokers['weight(kg)'], color='b', label='Non-Smokers', alpha=0.5)\n",
    "# Add labels and title\n",
    "plt.xlabel('Height (cm)')\n",
    "plt.ylabel('Weight (kg)')\n",
    "plt.title('Height vs Weight of Smokers and Non-Smokers')\n",
    "plt.legend()\n",
    "\n",
    "# Show the plot\n",
    "plt.show()"
   ]
  },
  {
   "cell_type": "markdown",
   "id": "f111beab-6684-4f8a-bd73-5f3d66855045",
   "metadata": {},
   "source": [
    "**Insight of chart 9**\n",
    "\n",
    "AS we can see that smokers are clustered in one region where we can see  that individuals who smoke might tend to have larger body sizes"
   ]
  },
  {
   "cell_type": "markdown",
   "id": "d8c568aa-6814-4927-97ff-e9be6f969ff5",
   "metadata": {},
   "source": [
    "# *Chart 10*"
   ]
  },
  {
   "cell_type": "code",
   "execution_count": 62,
   "id": "26df435d-c74a-49df-8398-96a46c104ded",
   "metadata": {},
   "outputs": [
    {
     "data": {
      "image/png": "[encoded data removed]",
      "text/plain": [
       "<Figure size 800x500 with 1 Axes>"
      ]
     },
     "metadata": {},
     "output_type": "display_data"
    }
   ],
   "source": [
    "grouped_data = df.groupby('smoking')['dental caries'].sum().reset_index()\n",
    "plt.figure(figsize=(8, 5))\n",
    "plt.bar(grouped_data['smoking'], grouped_data['dental caries'], color=['lightblue', 'salmon'])\n",
    "plt.title('Dental Caries: Smokers vs. Non-Smokers')\n",
    "plt.xlabel('Smoking Status')\n",
    "plt.ylabel('Total Dental Caries')\n",
    "plt.xticks([0, 1], ['Smoker', 'Non-Smoker'])  # Set the labels to Smoker and Non-Smoker\n",
    "plt.grid(axis='y')\n",
    "plt.show()"
   ]
  },
  {
   "cell_type": "markdown",
   "id": "c0840637-a611-4fff-8095-ec496d5759d7",
   "metadata": {},
   "source": [
    "**Insight of chart 10**\n",
    "\n",
    "we can see that dental cavities are found more in smokers as compared to non smokers"
   ]
  },
  {
   "cell_type": "markdown",
   "id": "be5de5ad-98ac-4136-a951-b56dd2ba1567",
   "metadata": {},
   "source": [
    "# Encoding categorical columns to numerical columns"
   ]
  },
  {
   "cell_type": "code",
   "execution_count": 64,
   "id": "5591494a-6fe8-4dc4-87f0-cd98d7c94ddc",
   "metadata": {},
   "outputs": [
    {
     "data": {
      "text/html": [
       "<div>\n",
       "<style scoped>\n",
       "    .dataframe tbody tr th:only-of-type {\n",
       "        vertical-align: middle;\n",
       "    }\n",
       "\n",
       "    .dataframe tbody tr th {\n",
       "        vertical-align: top;\n",
       "    }\n",
       "\n",
       "    .dataframe thead th {\n",
       "        text-align: right;\n",
       "    }\n",
       "</style>\n",
       "<table border=\"1\" class=\"dataframe\">\n",
       "  <thead>\n",
       "    <tr style=\"text-align: right;\">\n",
       "      <th></th>\n",
       "      <th>gender</th>\n",
       "      <th>age</th>\n",
       "      <th>height(cm)</th>\n",
       "      <th>weight(kg)</th>\n",
       "      <th>waist(cm)</th>\n",
       "      <th>eyesight(left)</th>\n",
       "      <th>eyesight(right)</th>\n",
       "      <th>hearing(left)</th>\n",
       "      <th>hearing(right)</th>\n",
       "      <th>systolic</th>\n",
       "      <th>...</th>\n",
       "      <th>LDL</th>\n",
       "      <th>hemoglobin</th>\n",
       "      <th>Urine protein</th>\n",
       "      <th>serum creatinine</th>\n",
       "      <th>AST</th>\n",
       "      <th>ALT</th>\n",
       "      <th>Gtp</th>\n",
       "      <th>dental caries</th>\n",
       "      <th>tartar</th>\n",
       "      <th>smoking</th>\n",
       "    </tr>\n",
       "  </thead>\n",
       "  <tbody>\n",
       "    <tr>\n",
       "      <th>0</th>\n",
       "      <td>0</td>\n",
       "      <td>40</td>\n",
       "      <td>155</td>\n",
       "      <td>60</td>\n",
       "      <td>81.3</td>\n",
       "      <td>1.2</td>\n",
       "      <td>1.0</td>\n",
       "      <td>1.0</td>\n",
       "      <td>1.0</td>\n",
       "      <td>114.0</td>\n",
       "      <td>...</td>\n",
       "      <td>126.0</td>\n",
       "      <td>12.9</td>\n",
       "      <td>1.0</td>\n",
       "      <td>0.7</td>\n",
       "      <td>18.0</td>\n",
       "      <td>19.0</td>\n",
       "      <td>27.0</td>\n",
       "      <td>0</td>\n",
       "      <td>1</td>\n",
       "      <td>0</td>\n",
       "    </tr>\n",
       "    <tr>\n",
       "      <th>1</th>\n",
       "      <td>0</td>\n",
       "      <td>40</td>\n",
       "      <td>160</td>\n",
       "      <td>60</td>\n",
       "      <td>81.0</td>\n",
       "      <td>0.8</td>\n",
       "      <td>0.6</td>\n",
       "      <td>1.0</td>\n",
       "      <td>1.0</td>\n",
       "      <td>119.0</td>\n",
       "      <td>...</td>\n",
       "      <td>127.0</td>\n",
       "      <td>12.7</td>\n",
       "      <td>1.0</td>\n",
       "      <td>0.6</td>\n",
       "      <td>22.0</td>\n",
       "      <td>19.0</td>\n",
       "      <td>18.0</td>\n",
       "      <td>0</td>\n",
       "      <td>1</td>\n",
       "      <td>0</td>\n",
       "    </tr>\n",
       "    <tr>\n",
       "      <th>2</th>\n",
       "      <td>1</td>\n",
       "      <td>55</td>\n",
       "      <td>170</td>\n",
       "      <td>60</td>\n",
       "      <td>80.0</td>\n",
       "      <td>0.8</td>\n",
       "      <td>0.8</td>\n",
       "      <td>1.0</td>\n",
       "      <td>1.0</td>\n",
       "      <td>138.0</td>\n",
       "      <td>...</td>\n",
       "      <td>151.0</td>\n",
       "      <td>15.8</td>\n",
       "      <td>1.0</td>\n",
       "      <td>1.0</td>\n",
       "      <td>21.0</td>\n",
       "      <td>16.0</td>\n",
       "      <td>22.0</td>\n",
       "      <td>0</td>\n",
       "      <td>0</td>\n",
       "      <td>1</td>\n",
       "    </tr>\n",
       "    <tr>\n",
       "      <th>3</th>\n",
       "      <td>1</td>\n",
       "      <td>40</td>\n",
       "      <td>165</td>\n",
       "      <td>70</td>\n",
       "      <td>88.0</td>\n",
       "      <td>1.5</td>\n",
       "      <td>1.5</td>\n",
       "      <td>1.0</td>\n",
       "      <td>1.0</td>\n",
       "      <td>100.0</td>\n",
       "      <td>...</td>\n",
       "      <td>226.0</td>\n",
       "      <td>14.7</td>\n",
       "      <td>1.0</td>\n",
       "      <td>1.0</td>\n",
       "      <td>19.0</td>\n",
       "      <td>26.0</td>\n",
       "      <td>18.0</td>\n",
       "      <td>0</td>\n",
       "      <td>1</td>\n",
       "      <td>0</td>\n",
       "    </tr>\n",
       "    <tr>\n",
       "      <th>4</th>\n",
       "      <td>0</td>\n",
       "      <td>40</td>\n",
       "      <td>155</td>\n",
       "      <td>60</td>\n",
       "      <td>86.0</td>\n",
       "      <td>1.0</td>\n",
       "      <td>1.0</td>\n",
       "      <td>1.0</td>\n",
       "      <td>1.0</td>\n",
       "      <td>120.0</td>\n",
       "      <td>...</td>\n",
       "      <td>107.0</td>\n",
       "      <td>12.5</td>\n",
       "      <td>1.0</td>\n",
       "      <td>0.6</td>\n",
       "      <td>16.0</td>\n",
       "      <td>14.0</td>\n",
       "      <td>22.0</td>\n",
       "      <td>0</td>\n",
       "      <td>0</td>\n",
       "      <td>0</td>\n",
       "    </tr>\n",
       "  </tbody>\n",
       "</table>\n",
       "<p>5 rows × 25 columns</p>\n",
       "</div>"
      ],
      "text/plain": [
       "   gender  age  height(cm)  weight(kg)  waist(cm)  eyesight(left)  \\\n",
       "0       0   40         155          60       81.3             1.2   \n",
       "1       0   40         160          60       81.0             0.8   \n",
       "2       1   55         170          60       80.0             0.8   \n",
       "3       1   40         165          70       88.0             1.5   \n",
       "4       0   40         155          60       86.0             1.0   \n",
       "\n",
       "   eyesight(right)  hearing(left)  hearing(right)  systolic  ...    LDL  \\\n",
       "0              1.0            1.0             1.0     114.0  ...  126.0   \n",
       "1              0.6            1.0             1.0     119.0  ...  127.0   \n",
       "2              0.8            1.0             1.0     138.0  ...  151.0   \n",
       "3              1.5            1.0             1.0     100.0  ...  226.0   \n",
       "4              1.0            1.0             1.0     120.0  ...  107.0   \n",
       "\n",
       "   hemoglobin  Urine protein  serum creatinine   AST   ALT   Gtp  \\\n",
       "0        12.9            1.0               0.7  18.0  19.0  27.0   \n",
       "1        12.7            1.0               0.6  22.0  19.0  18.0   \n",
       "2        15.8            1.0               1.0  21.0  16.0  22.0   \n",
       "3        14.7            1.0               1.0  19.0  26.0  18.0   \n",
       "4        12.5            1.0               0.6  16.0  14.0  22.0   \n",
       "\n",
       "   dental caries  tartar  smoking  \n",
       "0              0       1        0  \n",
       "1              0       1        0  \n",
       "2              0       0        1  \n",
       "3              0       1        0  \n",
       "4              0       0        0  \n",
       "\n",
       "[5 rows x 25 columns]"
      ]
     },
     "execution_count": 64,
     "metadata": {},
     "output_type": "execute_result"
    }
   ],
   "source": [
    "from sklearn.preprocessing import LabelEncoder\n",
    "le= LabelEncoder()\n",
    "df[\"gender\"]=le.fit_transform(df[\"gender\"])\n",
    "df[\"tartar\"]=le.fit_transform(df [\"tartar\"])\n",
    "df.head()"
   ]
  },
  {
   "cell_type": "markdown",
   "id": "519442d4-4b8d-43f3-9d2a-e3eeb1695f3e",
   "metadata": {},
   "source": [
    "**Insight**\n",
    "\n",
    "Converting the categorical columns into numerical columns as the predictive model doesnt accept categorical values"
   ]
  },
  {
   "cell_type": "markdown",
   "id": "96ee3064-9aff-41b3-9617-7d9628cada20",
   "metadata": {},
   "source": [
    "# Feature selection using feature importance"
   ]
  },
  {
   "cell_type": "code",
   "execution_count": 66,
   "id": "c12c05f6-2210-49bb-9d14-6a67f05053ef",
   "metadata": {},
   "outputs": [
    {
     "data": {
      "image/png": "[encoded data removed]",
      "text/plain": [
       "<Figure size 800x800 with 1 Axes>"
      ]
     },
     "metadata": {},
     "output_type": "display_data"
    }
   ],
   "source": [
    "x=df.iloc[:,:-1]\n",
    "y=df[\"smoking\"]\n",
    "from sklearn.ensemble import ExtraTreesClassifier\n",
    "model=ExtraTreesClassifier()\n",
    "model.fit(x,y)\n",
    "df1=pd.Series(model.feature_importances_,index= x.columns)\n",
    "plt.figure(figsize=(8,8))\n",
    "df1.nlargest(24).plot(kind='barh')\n",
    "plt.show()"
   ]
  },
  {
   "cell_type": "markdown",
   "id": "5802c9ad-5377-42a4-9069-396514bb8ed4",
   "metadata": {},
   "source": [
    "**Insight**\n",
    "\n",
    "Feature importance is a technique that calculate a score for all the input features for a given model . So out of 24 features we will select the top 15 features based on the score. By selecting the top 15 faetures we can increase the probability of getting a good accuracy score of our predictive model"
   ]
  },
  {
   "cell_type": "markdown",
   "id": "09531e6b-86f1-4d61-a979-2e7ad52f2cc7",
   "metadata": {},
   "source": [
    "# Performing logistic regression to build the predictive model"
   ]
  },
  {
   "cell_type": "code",
   "execution_count": 72,
   "id": "3df48191-f174-4345-837b-144593977345",
   "metadata": {},
   "outputs": [
    {
     "data": {
      "text/html": [
       "<div>\n",
       "<style scoped>\n",
       "    .dataframe tbody tr th:only-of-type {\n",
       "        vertical-align: middle;\n",
       "    }\n",
       "\n",
       "    .dataframe tbody tr th {\n",
       "        vertical-align: top;\n",
       "    }\n",
       "\n",
       "    .dataframe thead th {\n",
       "        text-align: right;\n",
       "    }\n",
       "</style>\n",
       "<table border=\"1\" class=\"dataframe\">\n",
       "  <thead>\n",
       "    <tr style=\"text-align: right;\">\n",
       "      <th></th>\n",
       "      <th>gender</th>\n",
       "      <th>height(cm)</th>\n",
       "      <th>Gtp</th>\n",
       "      <th>hemoglobin</th>\n",
       "      <th>triglyceride</th>\n",
       "      <th>age</th>\n",
       "      <th>weight(kg)</th>\n",
       "      <th>waist(cm)</th>\n",
       "      <th>HDL</th>\n",
       "      <th>serum creatinine</th>\n",
       "      <th>ALT</th>\n",
       "      <th>fasting blood sugar</th>\n",
       "      <th>relaxation</th>\n",
       "      <th>LDL</th>\n",
       "      <th>systolic</th>\n",
       "    </tr>\n",
       "  </thead>\n",
       "  <tbody>\n",
       "    <tr>\n",
       "      <th>0</th>\n",
       "      <td>0</td>\n",
       "      <td>155</td>\n",
       "      <td>27.0</td>\n",
       "      <td>12.9</td>\n",
       "      <td>82.0</td>\n",
       "      <td>40</td>\n",
       "      <td>60</td>\n",
       "      <td>81.3</td>\n",
       "      <td>73.0</td>\n",
       "      <td>0.7</td>\n",
       "      <td>19.0</td>\n",
       "      <td>94.0</td>\n",
       "      <td>73.0</td>\n",
       "      <td>126.0</td>\n",
       "      <td>114.0</td>\n",
       "    </tr>\n",
       "    <tr>\n",
       "      <th>1</th>\n",
       "      <td>0</td>\n",
       "      <td>160</td>\n",
       "      <td>18.0</td>\n",
       "      <td>12.7</td>\n",
       "      <td>115.0</td>\n",
       "      <td>40</td>\n",
       "      <td>60</td>\n",
       "      <td>81.0</td>\n",
       "      <td>42.0</td>\n",
       "      <td>0.6</td>\n",
       "      <td>19.0</td>\n",
       "      <td>130.0</td>\n",
       "      <td>70.0</td>\n",
       "      <td>127.0</td>\n",
       "      <td>119.0</td>\n",
       "    </tr>\n",
       "    <tr>\n",
       "      <th>2</th>\n",
       "      <td>1</td>\n",
       "      <td>170</td>\n",
       "      <td>22.0</td>\n",
       "      <td>15.8</td>\n",
       "      <td>182.0</td>\n",
       "      <td>55</td>\n",
       "      <td>60</td>\n",
       "      <td>80.0</td>\n",
       "      <td>55.0</td>\n",
       "      <td>1.0</td>\n",
       "      <td>16.0</td>\n",
       "      <td>89.0</td>\n",
       "      <td>86.0</td>\n",
       "      <td>151.0</td>\n",
       "      <td>138.0</td>\n",
       "    </tr>\n",
       "    <tr>\n",
       "      <th>3</th>\n",
       "      <td>1</td>\n",
       "      <td>165</td>\n",
       "      <td>18.0</td>\n",
       "      <td>14.7</td>\n",
       "      <td>254.0</td>\n",
       "      <td>40</td>\n",
       "      <td>70</td>\n",
       "      <td>88.0</td>\n",
       "      <td>45.0</td>\n",
       "      <td>1.0</td>\n",
       "      <td>26.0</td>\n",
       "      <td>96.0</td>\n",
       "      <td>60.0</td>\n",
       "      <td>226.0</td>\n",
       "      <td>100.0</td>\n",
       "    </tr>\n",
       "    <tr>\n",
       "      <th>4</th>\n",
       "      <td>0</td>\n",
       "      <td>155</td>\n",
       "      <td>22.0</td>\n",
       "      <td>12.5</td>\n",
       "      <td>74.0</td>\n",
       "      <td>40</td>\n",
       "      <td>60</td>\n",
       "      <td>86.0</td>\n",
       "      <td>62.0</td>\n",
       "      <td>0.6</td>\n",
       "      <td>14.0</td>\n",
       "      <td>80.0</td>\n",
       "      <td>74.0</td>\n",
       "      <td>107.0</td>\n",
       "      <td>120.0</td>\n",
       "    </tr>\n",
       "  </tbody>\n",
       "</table>\n",
       "</div>"
      ],
      "text/plain": [
       "   gender  height(cm)   Gtp  hemoglobin  triglyceride  age  weight(kg)  \\\n",
       "0       0         155  27.0        12.9          82.0   40          60   \n",
       "1       0         160  18.0        12.7         115.0   40          60   \n",
       "2       1         170  22.0        15.8         182.0   55          60   \n",
       "3       1         165  18.0        14.7         254.0   40          70   \n",
       "4       0         155  22.0        12.5          74.0   40          60   \n",
       "\n",
       "   waist(cm)   HDL  serum creatinine   ALT  fasting blood sugar  relaxation  \\\n",
       "0       81.3  73.0               0.7  19.0                 94.0        73.0   \n",
       "1       81.0  42.0               0.6  19.0                130.0        70.0   \n",
       "2       80.0  55.0               1.0  16.0                 89.0        86.0   \n",
       "3       88.0  45.0               1.0  26.0                 96.0        60.0   \n",
       "4       86.0  62.0               0.6  14.0                 80.0        74.0   \n",
       "\n",
       "     LDL  systolic  \n",
       "0  126.0     114.0  \n",
       "1  127.0     119.0  \n",
       "2  151.0     138.0  \n",
       "3  226.0     100.0  \n",
       "4  107.0     120.0  "
      ]
     },
     "execution_count": 72,
     "metadata": {},
     "output_type": "execute_result"
    }
   ],
   "source": [
    "X= df[[\"gender\", \"height(cm)\", \"Gtp\", \"hemoglobin\", \"triglyceride\", \"age\",\"weight(kg)\",\"waist(cm)\", \"HDL\",\"serum creatinine\", \"ALT\", \n",
    "       \"fasting blood sugar\", \"relaxation\", \"LDL\", \"systolic\"]] #independent variable\n",
    "Y=df[[\"smoking\"]]#dependent variable\n",
    "X.head()"
   ]
  },
  {
   "cell_type": "markdown",
   "id": "cba4ca28-63de-48cf-b58b-6dd415184aa1",
   "metadata": {},
   "source": [
    "**Insight**\n",
    "\n",
    "Defining X and Y , and showing relevent columns needed for prediction to increase accuracy\n"
   ]
  },
  {
   "cell_type": "code",
   "execution_count": 74,
   "id": "6515f4cb-319a-4305-9894-3e3c020fe559",
   "metadata": {},
   "outputs": [
    {
     "data": {
      "text/html": [
       "<div>\n",
       "<style scoped>\n",
       "    .dataframe tbody tr th:only-of-type {\n",
       "        vertical-align: middle;\n",
       "    }\n",
       "\n",
       "    .dataframe tbody tr th {\n",
       "        vertical-align: top;\n",
       "    }\n",
       "\n",
       "    .dataframe thead th {\n",
       "        text-align: right;\n",
       "    }\n",
       "</style>\n",
       "<table border=\"1\" class=\"dataframe\">\n",
       "  <thead>\n",
       "    <tr style=\"text-align: right;\">\n",
       "      <th></th>\n",
       "      <th>smoking</th>\n",
       "    </tr>\n",
       "  </thead>\n",
       "  <tbody>\n",
       "    <tr>\n",
       "      <th>0</th>\n",
       "      <td>0</td>\n",
       "    </tr>\n",
       "    <tr>\n",
       "      <th>1</th>\n",
       "      <td>0</td>\n",
       "    </tr>\n",
       "    <tr>\n",
       "      <th>2</th>\n",
       "      <td>1</td>\n",
       "    </tr>\n",
       "    <tr>\n",
       "      <th>3</th>\n",
       "      <td>0</td>\n",
       "    </tr>\n",
       "    <tr>\n",
       "      <th>4</th>\n",
       "      <td>0</td>\n",
       "    </tr>\n",
       "  </tbody>\n",
       "</table>\n",
       "</div>"
      ],
      "text/plain": [
       "   smoking\n",
       "0        0\n",
       "1        0\n",
       "2        1\n",
       "3        0\n",
       "4        0"
      ]
     },
     "execution_count": 74,
     "metadata": {},
     "output_type": "execute_result"
    }
   ],
   "source": [
    "Y.head()"
   ]
  },
  {
   "cell_type": "code",
   "execution_count": 76,
   "id": "64fc3a1d-2fc3-480b-9f83-a68ea5cb9896",
   "metadata": {},
   "outputs": [],
   "source": [
    "from sklearn.model_selection import train_test_split\n",
    "x_train,x_test,y_train,y_test=train_test_split(X,Y,test_size=0.2,random_state=42)"
   ]
  },
  {
   "cell_type": "markdown",
   "id": "bf4d8b1a-ec99-4e80-bfc9-22a053423838",
   "metadata": {},
   "source": [
    "**Insight**\n",
    "\n",
    "The dataset is divided into two parts: 80% is used to train the model, while 20% is saved for testing to see how well the model works on new data. This helps in checking if the model is accurate."
   ]
  },
  {
   "cell_type": "code",
   "execution_count": 78,
   "id": "0764ae76-f223-448b-9922-8622b3337511",
   "metadata": {},
   "outputs": [
    {
     "data": {
      "text/plain": [
       "(44553, 11139, 44553, 11139)"
      ]
     },
     "execution_count": 78,
     "metadata": {},
     "output_type": "execute_result"
    }
   ],
   "source": [
    "len(x_train),len(x_test),len(y_train),len(y_test)"
   ]
  },
  {
   "cell_type": "markdown",
   "id": "20c52a0b-d11f-4a9c-851e-064a9e72cb23",
   "metadata": {},
   "source": [
    "**Insight**\n",
    "\n",
    "To check if the train and test data are distributed equally between x and y"
   ]
  },
  {
   "cell_type": "code",
   "execution_count": 80,
   "id": "005717cb-c9fd-43d8-b182-a02f8f54e022",
   "metadata": {},
   "outputs": [
    {
     "name": "stderr",
     "output_type": "stream",
     "text": [
      "/opt/anaconda3/lib/python3.12/site-packages/sklearn/utils/validation.py:1300: DataConversionWarning: A column-vector y was passed when a 1d array was expected. Please change the shape of y to (n_samples, ), for example using ravel().\n",
      "  y = column_or_1d(y, warn=True)\n",
      "/opt/anaconda3/lib/python3.12/site-packages/sklearn/linear_model/_logistic.py:469: ConvergenceWarning: lbfgs failed to converge (status=1):\n",
      "STOP: TOTAL NO. of ITERATIONS REACHED LIMIT.\n",
      "\n",
      "Increase the number of iterations (max_iter) or scale the data as shown in:\n",
      "    https://scikit-learn.org/stable/modules/preprocessing.html\n",
      "Please also refer to the documentation for alternative solver options:\n",
      "    https://scikit-learn.org/stable/modules/linear_model.html#logistic-regression\n",
      "  n_iter_i = _check_optimize_result(\n"
     ]
    }
   ],
   "source": [
    "from sklearn.linear_model import LogisticRegression\n",
    "classification=LogisticRegression()\n",
    "model=classification.fit(x_train,y_train)\n"
   ]
  },
  {
   "cell_type": "markdown",
   "id": "e5fa88f6-1eb4-46d1-b205-27539af2a3af",
   "metadata": {},
   "source": [
    "**Insight**\n",
    "\n",
    "Building the model using logistic regression\n",
    "\n",
    "**Logistic regression** is a type of statistical model used to predict the likelihood of an outcome, such as whether something will happen or not. It’s often used when the result is binary, like predicting if a person is a smoker (yes/no) based on certain factors."
   ]
  },
  {
   "cell_type": "code",
   "execution_count": 82,
   "id": "bec26592-f475-4bc9-81cd-e42db376f473",
   "metadata": {},
   "outputs": [
    {
     "data": {
      "text/html": [
       "<div>\n",
       "<style scoped>\n",
       "    .dataframe tbody tr th:only-of-type {\n",
       "        vertical-align: middle;\n",
       "    }\n",
       "\n",
       "    .dataframe tbody tr th {\n",
       "        vertical-align: top;\n",
       "    }\n",
       "\n",
       "    .dataframe thead th {\n",
       "        text-align: right;\n",
       "    }\n",
       "</style>\n",
       "<table border=\"1\" class=\"dataframe\">\n",
       "  <thead>\n",
       "    <tr style=\"text-align: right;\">\n",
       "      <th></th>\n",
       "      <th>smoking</th>\n",
       "      <th>Prediction</th>\n",
       "    </tr>\n",
       "  </thead>\n",
       "  <tbody>\n",
       "    <tr>\n",
       "      <th>33967</th>\n",
       "      <td>0</td>\n",
       "      <td>0</td>\n",
       "    </tr>\n",
       "    <tr>\n",
       "      <th>21956</th>\n",
       "      <td>1</td>\n",
       "      <td>0</td>\n",
       "    </tr>\n",
       "    <tr>\n",
       "      <th>15458</th>\n",
       "      <td>0</td>\n",
       "      <td>1</td>\n",
       "    </tr>\n",
       "    <tr>\n",
       "      <th>36215</th>\n",
       "      <td>0</td>\n",
       "      <td>0</td>\n",
       "    </tr>\n",
       "    <tr>\n",
       "      <th>8886</th>\n",
       "      <td>0</td>\n",
       "      <td>1</td>\n",
       "    </tr>\n",
       "  </tbody>\n",
       "</table>\n",
       "</div>"
      ],
      "text/plain": [
       "       smoking  Prediction\n",
       "33967        0           0\n",
       "21956        1           0\n",
       "15458        0           1\n",
       "36215        0           0\n",
       "8886         0           1"
      ]
     },
     "execution_count": 82,
     "metadata": {},
     "output_type": "execute_result"
    }
   ],
   "source": [
    "y_test['Prediction']=model.predict(x_test)\n",
    "y_test.head()"
   ]
  },
  {
   "cell_type": "markdown",
   "id": "dc342ad9-42cf-4b87-bbfc-8a9f9502ef99",
   "metadata": {},
   "source": [
    "**Insight**\n",
    "\n",
    "We use the trained model to predict the smoking status of individuals in the test data. The predictions are then stored in a new column called 'Prediction' within the test dataset, allowing us to see which individuals the model thinks are smokers or non-smokers."
   ]
  },
  {
   "cell_type": "code",
   "execution_count": 84,
   "id": "56cdd26a-51e5-4fcb-aa3e-af7b6c414b6d",
   "metadata": {},
   "outputs": [
    {
     "data": {
      "text/plain": [
       "array([[5711, 1316],\n",
       "       [1970, 2142]])"
      ]
     },
     "execution_count": 84,
     "metadata": {},
     "output_type": "execute_result"
    }
   ],
   "source": [
    "from sklearn.metrics import confusion_matrix,accuracy_score\n",
    "confusion_matrix(y_test['smoking'],y_test['Prediction'])"
   ]
  },
  {
   "cell_type": "markdown",
   "id": "276ef82a-a134-4d08-9977-faae72badc85",
   "metadata": {},
   "source": [
    "**Insight**\n",
    "\n",
    "The confusion matrix compares the actual smoking status with the predicted values, helping to evaluate the model's performance."
   ]
  },
  {
   "cell_type": "code",
   "execution_count": 86,
   "id": "1fe49916-944d-4031-9492-832c01d6c59d",
   "metadata": {},
   "outputs": [
    {
     "data": {
      "text/plain": [
       "0.7050004488733279"
      ]
     },
     "execution_count": 86,
     "metadata": {},
     "output_type": "execute_result"
    }
   ],
   "source": [
    "accuracy_score(y_test['smoking'],y_test['Prediction'])"
   ]
  },
  {
   "cell_type": "markdown",
   "id": "70fb7b65-94e0-4260-b8d7-fe256ce1445f",
   "metadata": {},
   "source": [
    "**Insight**\n",
    "\n",
    "The accuracy score of the model is 70 percent . This shows that 70 percent of the times this model is going to predict correct .\n",
    "The accuracy score quantifies how often the model correctly predicted the smoking status.\"\n"
   ]
  },
  {
   "cell_type": "code",
   "execution_count": 88,
   "id": "9ac72920-3e05-4389-a0f0-c168a4373993",
   "metadata": {},
   "outputs": [
    {
     "data": {
      "text/plain": [
       "Index(['gender', 'height(cm)', 'Gtp', 'hemoglobin', 'triglyceride', 'age',\n",
       "       'weight(kg)', 'waist(cm)', 'HDL', 'serum creatinine', 'ALT',\n",
       "       'fasting blood sugar', 'relaxation', 'LDL', 'systolic'],\n",
       "      dtype='object')"
      ]
     },
     "execution_count": 88,
     "metadata": {},
     "output_type": "execute_result"
    }
   ],
   "source": [
    "X.columns"
   ]
  },
  {
   "cell_type": "markdown",
   "id": "476c7b9f-ba6b-4432-98b0-6eea43b4e792",
   "metadata": {},
   "source": [
    "**Insight**\n",
    "\n",
    "Checking the columns in X variable"
   ]
  },
  {
   "cell_type": "code",
   "execution_count": 90,
   "id": "703d46f8-bc08-4593-ba82-40132b2865c6",
   "metadata": {},
   "outputs": [
    {
     "name": "stderr",
     "output_type": "stream",
     "text": [
      "/opt/anaconda3/lib/python3.12/site-packages/sklearn/base.py:493: UserWarning: X does not have valid feature names, but LogisticRegression was fitted with feature names\n",
      "  warnings.warn(\n"
     ]
    },
    {
     "data": {
      "text/plain": [
       "array([0])"
      ]
     },
     "execution_count": 90,
     "metadata": {},
     "output_type": "execute_result"
    }
   ],
   "source": [
    "model.predict([[0,160,18,12,115,40,60,81,42,0.6,19,130,70,127,119,]])"
   ]
  },
  {
   "cell_type": "markdown",
   "id": "310c25a2-60b5-4f42-bcfb-0d2b07815284",
   "metadata": {},
   "source": [
    "**Insight**\n",
    "\n",
    "After providing various values of  health matrices the model predicts whether an individual is a smoker or non smoker . \n",
    "After giving all the values to the model , the model predicted the individual is a non smoker."
   ]
  },
  {
   "cell_type": "code",
   "execution_count": 92,
   "id": "73f8c9b2-b4fe-4086-9d65-284c4dd94636",
   "metadata": {},
   "outputs": [
    {
     "name": "stderr",
     "output_type": "stream",
     "text": [
      "/opt/anaconda3/lib/python3.12/site-packages/sklearn/base.py:493: UserWarning: X does not have valid feature names, but LogisticRegression was fitted with feature names\n",
      "  warnings.warn(\n"
     ]
    },
    {
     "data": {
      "text/plain": [
       "array([[0.92154894, 0.07845106]])"
      ]
     },
     "execution_count": 92,
     "metadata": {},
     "output_type": "execute_result"
    }
   ],
   "source": [
    "model.predict_proba([[0,160,18,12,115,40,60,81,42,0.6,19,130,70,127,119,]])"
   ]
  },
  {
   "cell_type": "markdown",
   "id": "e1f88105-714d-4694-97c7-b0c096e37eb1",
   "metadata": {},
   "source": [
    "**Insight**\n",
    "\n",
    "The predict_proba method outputs the probabilities indicating the likelihood that a person is a smoker or a non-smoker . \n",
    "This shows that 92 percent the person is a non smoker and 7 percent the person is a smoker"
   ]
  },
  {
   "cell_type": "markdown",
   "id": "c37b6bfa-c432-4f16-b8a6-088f516f7fa1",
   "metadata": {},
   "source": [
    "# Conclusion\n"
   ]
  },
  {
   "cell_type": "markdown",
   "id": "a2a76578-3144-4036-b820-3d9c221c71e5",
   "metadata": {},
   "source": [
    "**Insights into Smoking Behaviour: The analysis highlights key health metrics and demographic factors that correlate with smoking behavior, providing a clearer understanding of why individuals smoke or refrain from smoking.**\n",
    "\n",
    "**Impact of Stress and Age: The findings suggest a relationship between increased stress levels and smoking habits, particularly noting a decline in smoking rates after the age of 40.**\n",
    "\n",
    "**Predictive Model Accuracy: The logistic regression model developed demonstrates the po\n",
    "potential to predict smoking behavior based on various health metrics and demographic information.**\n",
    "\n"
   ]
  },
  {
   "cell_type": "markdown",
   "id": "952467a0-a852-4b9e-b921-49a063d74fd7",
   "metadata": {},
   "source": [
    "# Recommendations"
   ]
  },
  {
   "cell_type": "markdown",
   "id": "5aeb4337-997e-420c-84ed-e25a2b744b8f",
   "metadata": {},
   "source": [
    "**Stress Management: Individuals should implement stress reduction techniques, such as mindfulness, meditation, or yoga, to lower stress levels, which may help reduce the urge to smoke.**\n",
    "\n",
    "**Healthy Lifestyle Choices: Adopting a balanced diet, regular exercise, and sufficient sleep can improve overall health and decrease the likelihood of smoking.**\n",
    "\n",
    "**Regular Health Check-ups: Encouraging regular medical check-ups can help individuals monitor their health and receive guidance on the risks associated with smoking.**\n",
    "\n",
    "**Awareness Campaigns: Implement educational initiatives focused on the long-term health risks of smoking and the benefits of quitting, especially targeting younger audiences.**"
   ]
  }
 ],
 "metadata": {
  "kernelspec": {
   "display_name": "Python 3 (ipykernel)",
   "language": "python",
   "name": "python3"
  },
  "language_info": {
   "codemirror_mode": {
    "name": "ipython",
    "version": 3
   },
   "file_extension": ".py",
   "mimetype": "text/x-python",
   "name": "python",
   "nbconvert_exporter": "python",
   "pygments_lexer": "ipython3",
   "version": "3.12.4"
  }
 },
 "nbformat": 4,
 "nbformat_minor": 5
}
